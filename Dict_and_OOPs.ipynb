{
  "nbformat": 4,
  "nbformat_minor": 0,
  "metadata": {
    "colab": {
      "name": "dict and OOPs.ipynb",
      "provenance": [],
      "authorship_tag": "ABX9TyN1ks6TGmr1AqqGUW+k2yBt",
      "include_colab_link": true
    },
    "kernelspec": {
      "name": "python3",
      "display_name": "Python 3"
    },
    "language_info": {
      "name": "python"
    }
  },
  "cells": [
    {
      "cell_type": "markdown",
      "metadata": {
        "id": "view-in-github",
        "colab_type": "text"
      },
      "source": [
        "<a href=\"https://colab.research.google.com/github/sumeet2-lab/Python/blob/main/Dict_and_OOPs.ipynb\" target=\"_parent\"><img src=\"https://colab.research.google.com/assets/colab-badge.svg\" alt=\"Open In Colab\"/></a>"
      ]
    },
    {
      "cell_type": "markdown",
      "source": [
        "## Dictonary\n",
        "\n",
        "* key value pair\n",
        "* { key: value,\n",
        "    key: value}\n",
        "* ordered(after python 3.7)\n",
        "* not indexable\n",
        "* mutable (value can be changed)\n",
        "* no duplicate values"
      ],
      "metadata": {
        "id": "_Op4A4Sf8rTX"
      }
    },
    {
      "cell_type": "code",
      "source": [
        "dict34={\"A\":\"sum\",\n",
        "      \"C\":[1,1,3],\n",
        "      \"B\":\"dev\"\n",
        "\n",
        "      }\n",
        "print(dict)"
      ],
      "metadata": {
        "colab": {
          "base_uri": "https://localhost:8080/"
        },
        "id": "IWPRKPuT8spj",
        "outputId": "3121de52-d19a-49fc-ec6d-c035014369bc"
      },
      "execution_count": null,
      "outputs": [
        {
          "output_type": "stream",
          "name": "stdout",
          "text": [
            "{'A': 'sum', 'C': [1, 1, 3], 'B': 'dev'}\n"
          ]
        }
      ]
    },
    {
      "cell_type": "code",
      "source": [
        "print(dict[\"C\"][2])\n",
        "print(type(dict34[\"C\"]))"
      ],
      "metadata": {
        "colab": {
          "base_uri": "https://localhost:8080/"
        },
        "id": "gJEFJwcI9dIH",
        "outputId": "794191c7-5276-49fd-be20-2f8c8bcc29bc"
      },
      "execution_count": null,
      "outputs": [
        {
          "output_type": "stream",
          "name": "stdout",
          "text": [
            "3\n",
            "<class 'list'>\n"
          ]
        }
      ]
    },
    {
      "cell_type": "code",
      "source": [
        "dict34.keys()"
      ],
      "metadata": {
        "colab": {
          "base_uri": "https://localhost:8080/"
        },
        "id": "PvP0-7QV_jq-",
        "outputId": "cc069c5d-d8f8-4f3f-e655-46fffd237bdb"
      },
      "execution_count": null,
      "outputs": [
        {
          "output_type": "execute_result",
          "data": {
            "text/plain": [
              "dict_keys(['A', 'C', 'B'])"
            ]
          },
          "metadata": {},
          "execution_count": 48
        }
      ]
    },
    {
      "cell_type": "code",
      "source": [
        "dict34.values()"
      ],
      "metadata": {
        "colab": {
          "base_uri": "https://localhost:8080/"
        },
        "id": "CzF-mPnW_-lv",
        "outputId": "5769c47c-985c-4ee8-c6a3-62ba502859a7"
      },
      "execution_count": null,
      "outputs": [
        {
          "output_type": "execute_result",
          "data": {
            "text/plain": [
              "dict_values(['sum', [1, 1, 3], 'dev'])"
            ]
          },
          "metadata": {},
          "execution_count": 49
        }
      ]
    },
    {
      "cell_type": "code",
      "source": [
        "for i in dict34.values():\n",
        "  print(i)"
      ],
      "metadata": {
        "colab": {
          "base_uri": "https://localhost:8080/"
        },
        "id": "__sLVVjJAA2-",
        "outputId": "22adf401-d37e-47d1-b897-388efc79a252"
      },
      "execution_count": null,
      "outputs": [
        {
          "output_type": "stream",
          "name": "stdout",
          "text": [
            "sum\n",
            "[1, 1, 3]\n",
            "dev\n"
          ]
        }
      ]
    },
    {
      "cell_type": "code",
      "source": [
        "for i,j in dict34.items():\n",
        "  print(i,j)"
      ],
      "metadata": {
        "colab": {
          "base_uri": "https://localhost:8080/"
        },
        "id": "JUDVd6gbAO4_",
        "outputId": "57c99033-3665-4817-d6da-6afff50061a5"
      },
      "execution_count": null,
      "outputs": [
        {
          "output_type": "stream",
          "name": "stdout",
          "text": [
            "A sum\n",
            "C [1, 1, 3]\n",
            "B dev\n"
          ]
        }
      ]
    },
    {
      "cell_type": "code",
      "source": [
        "for i,j in zip(dict34.items(),dict34.values()):\n",
        "  print(i,j)"
      ],
      "metadata": {
        "colab": {
          "base_uri": "https://localhost:8080/"
        },
        "id": "iESW_rBFAgs0",
        "outputId": "864929f8-2583-4d52-c0ee-00f8d5c0d45e"
      },
      "execution_count": null,
      "outputs": [
        {
          "output_type": "stream",
          "name": "stdout",
          "text": [
            "('A', 'sum') sum\n",
            "('C', [1, 1, 3]) [1, 1, 3]\n",
            "('B', 'dev') dev\n"
          ]
        }
      ]
    },
    {
      "cell_type": "markdown",
      "source": [
        "Ques 1:- Make one Dictionary Which has a number 1 to 5 as a key and it's square as a value\n",
        "\n",
        "Ques2 :- Given a dictionary in Python WAP to find the sum of all items in the dictionary\n"
      ],
      "metadata": {
        "id": "_0fZWBwWBWk-"
      }
    },
    {
      "cell_type": "code",
      "source": [
        "  dict1={i:i*i for i in range(1,6)}\n",
        "  print(dict1)"
      ],
      "metadata": {
        "colab": {
          "base_uri": "https://localhost:8080/"
        },
        "id": "Ceb-k7BqBClT",
        "outputId": "02ed7ae4-8af8-4253-c7a6-209a7da2f206"
      },
      "execution_count": null,
      "outputs": [
        {
          "output_type": "stream",
          "name": "stdout",
          "text": [
            "{1: 1, 2: 4, 3: 9, 4: 16, 5: 25}\n"
          ]
        }
      ]
    },
    {
      "cell_type": "code",
      "source": [
        "sum1= sum(dict1.values())\n",
        "print(sum1)"
      ],
      "metadata": {
        "colab": {
          "base_uri": "https://localhost:8080/"
        },
        "id": "GMU-713RD0EV",
        "outputId": "01bff00d-435a-4ef6-9946-15ba3cde9765"
      },
      "execution_count": null,
      "outputs": [
        {
          "output_type": "stream",
          "name": "stdout",
          "text": [
            "55\n"
          ]
        }
      ]
    },
    {
      "cell_type": "code",
      "source": [
        "print(dict1)"
      ],
      "metadata": {
        "colab": {
          "base_uri": "https://localhost:8080/"
        },
        "id": "U4XiWYvsG9r8",
        "outputId": "af41598e-d414-44d4-c0e6-d4d831ffbeee"
      },
      "execution_count": null,
      "outputs": [
        {
          "output_type": "stream",
          "name": "stdout",
          "text": [
            "{1: 1, 2: 4, 3: 9, 4: 16, 5: 25}\n"
          ]
        }
      ]
    },
    {
      "cell_type": "code",
      "source": [
        "dict={1:45}\n",
        "del dict ## delete dictonary"
      ],
      "metadata": {
        "id": "iiY0jiVlF2uv"
      },
      "execution_count": null,
      "outputs": []
    },
    {
      "cell_type": "code",
      "source": [
        "dict1= dict()"
      ],
      "metadata": {
        "id": "DllhRcsdHnd-"
      },
      "execution_count": null,
      "outputs": []
    },
    {
      "cell_type": "code",
      "source": [
        "print(dict1)"
      ],
      "metadata": {
        "colab": {
          "base_uri": "https://localhost:8080/"
        },
        "id": "C1mvQv51IJ94",
        "outputId": "6401a37f-402e-4e28-9f38-8cc2da9e63a6"
      },
      "execution_count": null,
      "outputs": [
        {
          "output_type": "stream",
          "name": "stdout",
          "text": [
            "{}\n"
          ]
        }
      ]
    },
    {
      "cell_type": "code",
      "source": [
        "try:\n",
        "  a=5\n",
        "  b=6\n",
        "  c=a/b\n",
        "except:\n",
        "  print(\"ho gaya finally\") # try false hoga then except chalega\n",
        "else:\n",
        "  print(\"else chala hai\") #except false hoga then else chalega\n",
        "finally:                     # finally always run\n",
        "  print(\"mai pakka chaluga\")\n"
      ],
      "metadata": {
        "colab": {
          "base_uri": "https://localhost:8080/"
        },
        "id": "8ElN1Ev7J_Ad",
        "outputId": "5566e337-10ff-46f9-8067-ae583ceb3bf9"
      },
      "execution_count": null,
      "outputs": [
        {
          "output_type": "stream",
          "name": "stdout",
          "text": [
            "else chala hai\n",
            "mai pakka chaluga\n"
          ]
        }
      ]
    },
    {
      "cell_type": "code",
      "source": [
        "class Phone:   # class ka First letter capital\n",
        "  a=10\n",
        "  b=5\n",
        "  def video(self):  # function making, self isliye likha argument khali nahi hona chiye; likh toh luch bhi sakte hai like sumeet\n",
        "    print(\"the function has v calls \")\n",
        "    print(self.a)\n",
        "  def initialization(sumeet,x):\n",
        "    sumeet.a=x\n",
        "    print(sumeet.a)"
      ],
      "metadata": {
        "id": "-wD-gAFhKohY"
      },
      "execution_count": null,
      "outputs": []
    },
    {
      "cell_type": "code",
      "source": [
        "p1=Phone()"
      ],
      "metadata": {
        "id": "C4X8iCNyPJVh"
      },
      "execution_count": null,
      "outputs": []
    },
    {
      "cell_type": "code",
      "source": [
        "p1.a"
      ],
      "metadata": {
        "colab": {
          "base_uri": "https://localhost:8080/"
        },
        "id": "e0gqhtsiPO1T",
        "outputId": "a0554f72-21d1-49d1-8daf-56cf337a3c81"
      },
      "execution_count": null,
      "outputs": [
        {
          "output_type": "execute_result",
          "data": {
            "text/plain": [
              "10"
            ]
          },
          "metadata": {},
          "execution_count": 107
        }
      ]
    },
    {
      "cell_type": "code",
      "source": [
        "p1.video()\n",
        "p1.initialization(34)"
      ],
      "metadata": {
        "colab": {
          "base_uri": "https://localhost:8080/"
        },
        "id": "M2MTaVRdPQYU",
        "outputId": "9675a35b-0974-4d91-e1c8-1267121c5519"
      },
      "execution_count": null,
      "outputs": [
        {
          "output_type": "stream",
          "name": "stdout",
          "text": [
            "the function has v calls \n",
            "10\n",
            "34\n"
          ]
        }
      ]
    },
    {
      "cell_type": "code",
      "source": [
        "class Phone2:  #__init__ is constructor\n",
        "  def __init__(self,brand,colour):   # __xyzabc__ -> this command represent there is some magical command\n",
        "    self.brand=brand\n",
        "    self.colour=colour\n",
        "  def printing(self):\n",
        "    print(\"I have \"+self.brand+\" in colour \"+self.colour)"
      ],
      "metadata": {
        "id": "oRQBbN8XP5sh"
      },
      "execution_count": 2,
      "outputs": []
    },
    {
      "cell_type": "code",
      "source": [
        "p2=Phone2(\"Iphone\",\"White\")"
      ],
      "metadata": {
        "id": "9DtIY1FCQZWB"
      },
      "execution_count": null,
      "outputs": []
    },
    {
      "cell_type": "code",
      "source": [
        "p2.printing()"
      ],
      "metadata": {
        "colab": {
          "base_uri": "https://localhost:8080/"
        },
        "id": "F_-uNGRdS7cY",
        "outputId": "75bde3ae-c227-4a16-c1fe-5791c86e793d"
      },
      "execution_count": null,
      "outputs": [
        {
          "output_type": "stream",
          "name": "stdout",
          "text": [
            "I have Iphone in colour White\n"
          ]
        }
      ]
    },
    {
      "cell_type": "code",
      "source": [
        "class Phone3(Phone2):\n",
        "  def __init__(self,brand,color,ram,rom):\n",
        "    super().__init__(brand,color)\n",
        "    self.ram=ram\n",
        "    self.rom=rom\n",
        "  def printing2(self):\n",
        "    print(\"m hu child class\")\n",
        "    print(self.ram)\n",
        "    print(self.rom)"
      ],
      "metadata": {
        "id": "fyGynoEcTUCg"
      },
      "execution_count": 3,
      "outputs": []
    },
    {
      "cell_type": "code",
      "source": [
        "p3=Phone3(\"Samsung\",\"Orange\",\"16 GB\",\"128 GB\")\n",
        "p3.printing()\n",
        "p3.printing2()"
      ],
      "metadata": {
        "colab": {
          "base_uri": "https://localhost:8080/"
        },
        "id": "zSwRqmFxVFka",
        "outputId": "df25ba7b-2930-4489-a2c1-3a1f455eed65"
      },
      "execution_count": 4,
      "outputs": [
        {
          "output_type": "stream",
          "name": "stdout",
          "text": [
            "I have Samsung in colour Orange\n",
            "m hu child class\n",
            "16 GB\n",
            "128 GB\n"
          ]
        }
      ]
    },
    {
      "cell_type": "markdown",
      "source": [
        "1. Public Members ==> Everywhere Accesible\n",
        "2. Protected members ==> Derived class and own class\n",
        "3. Private Members ==> only own class"
      ],
      "metadata": {
        "id": "2hLbqI8mTMRS"
      }
    },
    {
      "cell_type": "code",
      "source": [
        "class A:\n",
        "  a=10 #Public\n",
        "  _b=20 #Protected\n",
        "  __c=30 #Private\n",
        "  def print_all(self):\n",
        "    print(self.a)\n",
        "    print(self._b)\n",
        "    print(self.__c)"
      ],
      "metadata": {
        "id": "Gf83JbGjTXBD"
      },
      "execution_count": 5,
      "outputs": []
    },
    {
      "cell_type": "code",
      "source": [
        "p1=A()"
      ],
      "metadata": {
        "id": "j-boI2nSTapR"
      },
      "execution_count": 6,
      "outputs": []
    },
    {
      "cell_type": "code",
      "source": [
        "p1._b"
      ],
      "metadata": {
        "colab": {
          "base_uri": "https://localhost:8080/"
        },
        "id": "7yD3QhQITcwX",
        "outputId": "b1431c54-7a03-4f28-b9ff-90a9f7db0432"
      },
      "execution_count": 7,
      "outputs": [
        {
          "output_type": "execute_result",
          "data": {
            "text/plain": [
              "20"
            ]
          },
          "metadata": {},
          "execution_count": 7
        }
      ]
    },
    {
      "cell_type": "code",
      "source": [
        "p1.print_all()"
      ],
      "metadata": {
        "colab": {
          "base_uri": "https://localhost:8080/"
        },
        "id": "dz1otUFQTe61",
        "outputId": "3b721196-3084-4c1c-d868-834468e1dfd2"
      },
      "execution_count": 8,
      "outputs": [
        {
          "output_type": "stream",
          "name": "stdout",
          "text": [
            "10\n",
            "20\n",
            "30\n"
          ]
        }
      ]
    },
    {
      "cell_type": "code",
      "source": [
        "class B(A):\n",
        "  def show(self):\n",
        "    print(self.__c)\n",
        "p2=B()\n",
        "p2.show()"
      ],
      "metadata": {
        "colab": {
          "base_uri": "https://localhost:8080/",
          "height": 322
        },
        "id": "g3E7rcGxThrA",
        "outputId": "810ea48e-d95d-4143-e8b6-7c7d487ba29b"
      },
      "execution_count": 9,
      "outputs": [
        {
          "output_type": "error",
          "ename": "AttributeError",
          "evalue": "ignored",
          "traceback": [
            "\u001b[0;31m---------------------------------------------------------------------------\u001b[0m",
            "\u001b[0;31mAttributeError\u001b[0m                            Traceback (most recent call last)",
            "\u001b[0;32m<ipython-input-9-8fb9433d863d>\u001b[0m in \u001b[0;36m<module>\u001b[0;34m()\u001b[0m\n\u001b[1;32m      3\u001b[0m     \u001b[0mprint\u001b[0m\u001b[0;34m(\u001b[0m\u001b[0mself\u001b[0m\u001b[0;34m.\u001b[0m\u001b[0m__c\u001b[0m\u001b[0;34m)\u001b[0m\u001b[0;34m\u001b[0m\u001b[0;34m\u001b[0m\u001b[0m\n\u001b[1;32m      4\u001b[0m \u001b[0mp2\u001b[0m\u001b[0;34m=\u001b[0m\u001b[0mB\u001b[0m\u001b[0;34m(\u001b[0m\u001b[0;34m)\u001b[0m\u001b[0;34m\u001b[0m\u001b[0;34m\u001b[0m\u001b[0m\n\u001b[0;32m----> 5\u001b[0;31m \u001b[0mp2\u001b[0m\u001b[0;34m.\u001b[0m\u001b[0mshow\u001b[0m\u001b[0;34m(\u001b[0m\u001b[0;34m)\u001b[0m\u001b[0;34m\u001b[0m\u001b[0;34m\u001b[0m\u001b[0m\n\u001b[0m",
            "\u001b[0;32m<ipython-input-9-8fb9433d863d>\u001b[0m in \u001b[0;36mshow\u001b[0;34m(self)\u001b[0m\n\u001b[1;32m      1\u001b[0m \u001b[0;32mclass\u001b[0m \u001b[0mB\u001b[0m\u001b[0;34m(\u001b[0m\u001b[0mA\u001b[0m\u001b[0;34m)\u001b[0m\u001b[0;34m:\u001b[0m\u001b[0;34m\u001b[0m\u001b[0;34m\u001b[0m\u001b[0m\n\u001b[1;32m      2\u001b[0m   \u001b[0;32mdef\u001b[0m \u001b[0mshow\u001b[0m\u001b[0;34m(\u001b[0m\u001b[0mself\u001b[0m\u001b[0;34m)\u001b[0m\u001b[0;34m:\u001b[0m\u001b[0;34m\u001b[0m\u001b[0;34m\u001b[0m\u001b[0m\n\u001b[0;32m----> 3\u001b[0;31m     \u001b[0mprint\u001b[0m\u001b[0;34m(\u001b[0m\u001b[0mself\u001b[0m\u001b[0;34m.\u001b[0m\u001b[0m__c\u001b[0m\u001b[0;34m)\u001b[0m\u001b[0;34m\u001b[0m\u001b[0;34m\u001b[0m\u001b[0m\n\u001b[0m\u001b[1;32m      4\u001b[0m \u001b[0mp2\u001b[0m\u001b[0;34m=\u001b[0m\u001b[0mB\u001b[0m\u001b[0;34m(\u001b[0m\u001b[0;34m)\u001b[0m\u001b[0;34m\u001b[0m\u001b[0;34m\u001b[0m\u001b[0m\n\u001b[1;32m      5\u001b[0m \u001b[0mp2\u001b[0m\u001b[0;34m.\u001b[0m\u001b[0mshow\u001b[0m\u001b[0;34m(\u001b[0m\u001b[0;34m)\u001b[0m\u001b[0;34m\u001b[0m\u001b[0;34m\u001b[0m\u001b[0m\n",
            "\u001b[0;31mAttributeError\u001b[0m: 'B' object has no attribute '_B__c'"
          ]
        }
      ]
    },
    {
      "cell_type": "code",
      "source": [
        "class C(B):\n",
        "  def show_me(self):\n",
        "    print(self._b)\n",
        "p3=C()\n",
        "p3.show_me()"
      ],
      "metadata": {
        "colab": {
          "base_uri": "https://localhost:8080/"
        },
        "id": "RxOTmvBMTk4a",
        "outputId": "9cd468bd-387f-4dd2-a389-01318305666c"
      },
      "execution_count": 10,
      "outputs": [
        {
          "output_type": "stream",
          "name": "stdout",
          "text": [
            "20\n"
          ]
        }
      ]
    },
    {
      "cell_type": "code",
      "source": [
        "def abc():\n",
        "  pass\n",
        "class Name:        # pass word used to skip the methods or class\n",
        "  pass"
      ],
      "metadata": {
        "id": "QfWJn3PuTpjt"
      },
      "execution_count": 12,
      "outputs": []
    },
    {
      "cell_type": "code",
      "source": [
        ""
      ],
      "metadata": {
        "id": "LtxfR8MhUC85"
      },
      "execution_count": null,
      "outputs": []
    }
  ]
}
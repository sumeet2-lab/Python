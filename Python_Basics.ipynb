{
  "nbformat": 4,
  "nbformat_minor": 0,
  "metadata": {
    "colab": {
      "name": "Python Basics.ipynb",
      "provenance": [],
      "authorship_tag": "ABX9TyP/0zAVoKqxYyT+6ATWRxvs",
      "include_colab_link": true
    },
    "kernelspec": {
      "name": "python3",
      "display_name": "Python 3"
    },
    "language_info": {
      "name": "python"
    }
  },
  "cells": [
    {
      "cell_type": "markdown",
      "metadata": {
        "id": "view-in-github",
        "colab_type": "text"
      },
      "source": [
        "<a href=\"https://colab.research.google.com/github/sumeet2-lab/Python/blob/main/Python_Basics.ipynb\" target=\"_parent\"><img src=\"https://colab.research.google.com/assets/colab-badge.svg\" alt=\"Open In Colab\"/></a>"
      ]
    },
    {
      "cell_type": "code",
      "execution_count": 1,
      "metadata": {
        "id": "Z9tcnf_Pd8Do",
        "colab": {
          "base_uri": "https://localhost:8080/"
        },
        "outputId": "966fede0-021d-4cb7-8592-d4f1a87bb060"
      },
      "outputs": [
        {
          "output_type": "stream",
          "name": "stdout",
          "text": [
            "sumeet\n"
          ]
        }
      ],
      "source": [
        "print(\"sumeet\")"
      ]
    },
    {
      "cell_type": "code",
      "source": [
        "num = 152\n",
        "print(num)"
      ],
      "metadata": {
        "id": "aVQNMO3ceDhP",
        "colab": {
          "base_uri": "https://localhost:8080/"
        },
        "outputId": "5503cd4e-5d40-4883-b7a6-4e7b3f949da9"
      },
      "execution_count": 6,
      "outputs": [
        {
          "output_type": "stream",
          "name": "stdout",
          "text": [
            "152\n"
          ]
        }
      ]
    },
    {
      "cell_type": "code",
      "source": [
        "string=\"pepcoding\"\n",
        "print(string)"
      ],
      "metadata": {
        "colab": {
          "base_uri": "https://localhost:8080/"
        },
        "id": "8IfBz27PdMWJ",
        "outputId": "b4f574a8-5618-4420-aaf6-6856f753183b"
      },
      "execution_count": 7,
      "outputs": [
        {
          "output_type": "stream",
          "name": "stdout",
          "text": [
            "pepcoding\n"
          ]
        }
      ]
    },
    {
      "cell_type": "code",
      "source": [
        "print(type(string))"
      ],
      "metadata": {
        "colab": {
          "base_uri": "https://localhost:8080/"
        },
        "id": "25lwYUOOdo5W",
        "outputId": "ccbe4971-c0ca-45bc-81e1-e30e11da128e"
      },
      "execution_count": 9,
      "outputs": [
        {
          "output_type": "stream",
          "name": "stdout",
          "text": [
            "<class 'str'>\n"
          ]
        }
      ]
    },
    {
      "cell_type": "code",
      "source": [
        "print(type(string),string,type(num),num)"
      ],
      "metadata": {
        "colab": {
          "base_uri": "https://localhost:8080/"
        },
        "id": "bMzZUkQTdr1a",
        "outputId": "e6e528ca-0a6c-4f6f-98ab-448c68472abb"
      },
      "execution_count": 10,
      "outputs": [
        {
          "output_type": "stream",
          "name": "stdout",
          "text": [
            "<class 'str'> pepcoding <class 'int'> 152\n"
          ]
        }
      ]
    },
    {
      "cell_type": "code",
      "source": [
        "import keyword\n",
        "print(keyword.kwlist)"
      ],
      "metadata": {
        "colab": {
          "base_uri": "https://localhost:8080/"
        },
        "id": "oV4dV10TeHmo",
        "outputId": "f0ab82a8-d2d0-4045-9159-0f7f8e3783e9"
      },
      "execution_count": 13,
      "outputs": [
        {
          "output_type": "stream",
          "name": "stdout",
          "text": [
            "['False', 'None', 'True', 'and', 'as', 'assert', 'async', 'await', 'break', 'class', 'continue', 'def', 'del', 'elif', 'else', 'except', 'finally', 'for', 'from', 'global', 'if', 'import', 'in', 'is', 'lambda', 'nonlocal', 'not', 'or', 'pass', 'raise', 'return', 'try', 'while', 'with', 'yield']\n"
          ]
        }
      ]
    },
    {
      "cell_type": "markdown",
      "source": [
        "##Numbers"
      ],
      "metadata": {
        "id": "g69voiE3hZkK"
      }
    },
    {
      "cell_type": "code",
      "source": [
        "num1=100"
      ],
      "metadata": {
        "id": "0IG6Qq_yhc4k"
      },
      "execution_count": 14,
      "outputs": []
    },
    {
      "cell_type": "code",
      "source": [
        "num2=2.2"
      ],
      "metadata": {
        "id": "T79LTiuwhfpD"
      },
      "execution_count": 15,
      "outputs": []
    },
    {
      "cell_type": "code",
      "source": [
        "num3= 5+2j"
      ],
      "metadata": {
        "id": "jnl9dsPbhtsv"
      },
      "execution_count": 24,
      "outputs": []
    },
    {
      "cell_type": "code",
      "source": [
        "print(num1,num2, num3)"
      ],
      "metadata": {
        "colab": {
          "base_uri": "https://localhost:8080/"
        },
        "id": "HFgQd0oGhxU5",
        "outputId": "0fa83e75-cc6f-4df3-e0d4-1b34fc2f7593"
      },
      "execution_count": 20,
      "outputs": [
        {
          "output_type": "stream",
          "name": "stdout",
          "text": [
            "100 2.2 (5+2j)\n"
          ]
        }
      ]
    },
    {
      "cell_type": "code",
      "source": [
        "sr=\"Sumeet\"\n",
        "print(str[0])"
      ],
      "metadata": {
        "colab": {
          "base_uri": "https://localhost:8080/"
        },
        "id": "Vo-Dlb9siMzw",
        "outputId": "772a988e-b9db-46da-d3a1-e96e79e8e4e2"
      },
      "execution_count": 22,
      "outputs": [
        {
          "output_type": "stream",
          "name": "stdout",
          "text": [
            "S\n"
          ]
        }
      ]
    },
    {
      "cell_type": "markdown",
      "source": [
        "##Slicing"
      ],
      "metadata": {
        "id": "cvk2lCPLlKsu"
      }
    },
    {
      "cell_type": "code",
      "source": [
        "sr=\"Sumeet Jain\"\n",
        "sr[0:4]\n",
        "sr[0:6:2] #jump liya sr[start:end:jump]\n"
      ],
      "metadata": {
        "colab": {
          "base_uri": "https://localhost:8080/",
          "height": 35
        },
        "id": "DiE8F9wqlPxY",
        "outputId": "edb42536-5b4d-43de-935c-155942f50c98"
      },
      "execution_count": 28,
      "outputs": [
        {
          "output_type": "execute_result",
          "data": {
            "application/vnd.google.colaboratory.intrinsic+json": {
              "type": "string"
            },
            "text/plain": [
              "'Sme'"
            ]
          },
          "metadata": {},
          "execution_count": 28
        }
      ]
    },
    {
      "cell_type": "code",
      "source": [
        "sr=\"helloworld\"\n",
        "sr[-1::-1]"
      ],
      "metadata": {
        "colab": {
          "base_uri": "https://localhost:8080/",
          "height": 35
        },
        "id": "fOD3HuhPlUIk",
        "outputId": "b4e819b8-7692-4510-99ee-fbd8dbb93791"
      },
      "execution_count": 42,
      "outputs": [
        {
          "output_type": "execute_result",
          "data": {
            "application/vnd.google.colaboratory.intrinsic+json": {
              "type": "string"
            },
            "text/plain": [
              "'dlrowolleh'"
            ]
          },
          "metadata": {},
          "execution_count": 42
        }
      ]
    },
    {
      "cell_type": "code",
      "source": [
        ""
      ],
      "metadata": {
        "id": "UrkcpcxTn7zR"
      },
      "execution_count": null,
      "outputs": []
    }
  ]
}
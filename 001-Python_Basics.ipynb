{
  "nbformat": 4,
  "nbformat_minor": 0,
  "metadata": {
    "colab": {
      "name": "Python Basics.ipynb",
      "provenance": [],
      "authorship_tag": "ABX9TyPIy2lqrxpPiwTlVk2jWy4y",
      "include_colab_link": true
    },
    "kernelspec": {
      "name": "python3",
      "display_name": "Python 3"
    },
    "language_info": {
      "name": "python"
    }
  },
  "cells": [
    {
      "cell_type": "markdown",
      "metadata": {
        "id": "view-in-github",
        "colab_type": "text"
      },
      "source": [
        "<a href=\"https://colab.research.google.com/github/sumeet2-lab/Python/blob/main/Python_Basics.ipynb\" target=\"_parent\"><img src=\"https://colab.research.google.com/assets/colab-badge.svg\" alt=\"Open In Colab\"/></a>"
      ]
    },
    {
      "cell_type": "code",
      "execution_count": 1,
      "metadata": {
        "id": "Z9tcnf_Pd8Do",
        "colab": {
          "base_uri": "https://localhost:8080/"
        },
        "outputId": "966fede0-021d-4cb7-8592-d4f1a87bb060"
      },
      "outputs": [
        {
          "output_type": "stream",
          "name": "stdout",
          "text": [
            "sumeet\n"
          ]
        }
      ],
      "source": [
        "print(\"sumeet\")"
      ]
    },
    {
      "cell_type": "code",
      "source": [
        "num = 152\n",
        "print(num)"
      ],
      "metadata": {
        "id": "aVQNMO3ceDhP",
        "colab": {
          "base_uri": "https://localhost:8080/"
        },
        "outputId": "5503cd4e-5d40-4883-b7a6-4e7b3f949da9"
      },
      "execution_count": 6,
      "outputs": [
        {
          "output_type": "stream",
          "name": "stdout",
          "text": [
            "152\n"
          ]
        }
      ]
    },
    {
      "cell_type": "code",
      "source": [
        "string=\"pepcoding\"\n",
        "print(string)"
      ],
      "metadata": {
        "colab": {
          "base_uri": "https://localhost:8080/"
        },
        "id": "8IfBz27PdMWJ",
        "outputId": "b4f574a8-5618-4420-aaf6-6856f753183b"
      },
      "execution_count": 7,
      "outputs": [
        {
          "output_type": "stream",
          "name": "stdout",
          "text": [
            "pepcoding\n"
          ]
        }
      ]
    },
    {
      "cell_type": "code",
      "source": [
        "print(type(string))"
      ],
      "metadata": {
        "colab": {
          "base_uri": "https://localhost:8080/"
        },
        "id": "25lwYUOOdo5W",
        "outputId": "ccbe4971-c0ca-45bc-81e1-e30e11da128e"
      },
      "execution_count": 9,
      "outputs": [
        {
          "output_type": "stream",
          "name": "stdout",
          "text": [
            "<class 'str'>\n"
          ]
        }
      ]
    },
    {
      "cell_type": "code",
      "source": [
        "print(type(string),string,type(num),num)"
      ],
      "metadata": {
        "colab": {
          "base_uri": "https://localhost:8080/"
        },
        "id": "bMzZUkQTdr1a",
        "outputId": "e6e528ca-0a6c-4f6f-98ab-448c68472abb"
      },
      "execution_count": 10,
      "outputs": [
        {
          "output_type": "stream",
          "name": "stdout",
          "text": [
            "<class 'str'> pepcoding <class 'int'> 152\n"
          ]
        }
      ]
    },
    {
      "cell_type": "code",
      "source": [
        "import keyword\n",
        "print(keyword.kwlist)"
      ],
      "metadata": {
        "colab": {
          "base_uri": "https://localhost:8080/"
        },
        "id": "oV4dV10TeHmo",
        "outputId": "f0ab82a8-d2d0-4045-9159-0f7f8e3783e9"
      },
      "execution_count": 13,
      "outputs": [
        {
          "output_type": "stream",
          "name": "stdout",
          "text": [
            "['False', 'None', 'True', 'and', 'as', 'assert', 'async', 'await', 'break', 'class', 'continue', 'def', 'del', 'elif', 'else', 'except', 'finally', 'for', 'from', 'global', 'if', 'import', 'in', 'is', 'lambda', 'nonlocal', 'not', 'or', 'pass', 'raise', 'return', 'try', 'while', 'with', 'yield']\n"
          ]
        }
      ]
    },
    {
      "cell_type": "markdown",
      "source": [
        "##Numbers"
      ],
      "metadata": {
        "id": "g69voiE3hZkK"
      }
    },
    {
      "cell_type": "code",
      "source": [
        "num1=100"
      ],
      "metadata": {
        "id": "0IG6Qq_yhc4k"
      },
      "execution_count": 14,
      "outputs": []
    },
    {
      "cell_type": "code",
      "source": [
        "num2=2.2"
      ],
      "metadata": {
        "id": "T79LTiuwhfpD"
      },
      "execution_count": 15,
      "outputs": []
    },
    {
      "cell_type": "code",
      "source": [
        "num3= 5+2j"
      ],
      "metadata": {
        "id": "jnl9dsPbhtsv"
      },
      "execution_count": 24,
      "outputs": []
    },
    {
      "cell_type": "code",
      "source": [
        "print(num1,num2, num3)"
      ],
      "metadata": {
        "colab": {
          "base_uri": "https://localhost:8080/"
        },
        "id": "HFgQd0oGhxU5",
        "outputId": "0fa83e75-cc6f-4df3-e0d4-1b34fc2f7593"
      },
      "execution_count": 20,
      "outputs": [
        {
          "output_type": "stream",
          "name": "stdout",
          "text": [
            "100 2.2 (5+2j)\n"
          ]
        }
      ]
    },
    {
      "cell_type": "code",
      "source": [
        "sr=\"Sumeet\"\n",
        "print(str[0])"
      ],
      "metadata": {
        "colab": {
          "base_uri": "https://localhost:8080/"
        },
        "id": "Vo-Dlb9siMzw",
        "outputId": "772a988e-b9db-46da-d3a1-e96e79e8e4e2"
      },
      "execution_count": 22,
      "outputs": [
        {
          "output_type": "stream",
          "name": "stdout",
          "text": [
            "S\n"
          ]
        }
      ]
    },
    {
      "cell_type": "markdown",
      "source": [
        "##Slicing"
      ],
      "metadata": {
        "id": "cvk2lCPLlKsu"
      }
    },
    {
      "cell_type": "code",
      "source": [
        "sr=\"Sumeet Jain\"\n",
        "sr[0:4]\n",
        "sr[0:6:2] #jump liya sr[start:end:jump]\n"
      ],
      "metadata": {
        "colab": {
          "base_uri": "https://localhost:8080/",
          "height": 35
        },
        "id": "DiE8F9wqlPxY",
        "outputId": "edb42536-5b4d-43de-935c-155942f50c98"
      },
      "execution_count": 28,
      "outputs": [
        {
          "output_type": "execute_result",
          "data": {
            "application/vnd.google.colaboratory.intrinsic+json": {
              "type": "string"
            },
            "text/plain": [
              "'Sme'"
            ]
          },
          "metadata": {},
          "execution_count": 28
        }
      ]
    },
    {
      "cell_type": "code",
      "source": [
        "sr=\"helloworld\"\n",
        "sr[-1::-1]"
      ],
      "metadata": {
        "colab": {
          "base_uri": "https://localhost:8080/",
          "height": 35
        },
        "id": "fOD3HuhPlUIk",
        "outputId": "b4e819b8-7692-4510-99ee-fbd8dbb93791"
      },
      "execution_count": 42,
      "outputs": [
        {
          "output_type": "execute_result",
          "data": {
            "application/vnd.google.colaboratory.intrinsic+json": {
              "type": "string"
            },
            "text/plain": [
              "'dlrowolleh'"
            ]
          },
          "metadata": {},
          "execution_count": 42
        }
      ]
    },
    {
      "cell_type": "code",
      "source": [
        "len(sr)"
      ],
      "metadata": {
        "colab": {
          "base_uri": "https://localhost:8080/"
        },
        "id": "UrkcpcxTn7zR",
        "outputId": "741b1110-9ef0-4510-84ea-5889f11bf1ed"
      },
      "execution_count": 43,
      "outputs": [
        {
          "output_type": "execute_result",
          "data": {
            "text/plain": [
              "10"
            ]
          },
          "metadata": {},
          "execution_count": 43
        }
      ]
    },
    {
      "cell_type": "code",
      "source": [
        "for ch in sr:\n",
        "  print(ch)"
      ],
      "metadata": {
        "colab": {
          "base_uri": "https://localhost:8080/"
        },
        "id": "l96MgAenrkc5",
        "outputId": "27fc7e4c-81d4-4df9-b164-b2424c95bba3"
      },
      "execution_count": 44,
      "outputs": [
        {
          "output_type": "stream",
          "name": "stdout",
          "text": [
            "h\n",
            "e\n",
            "l\n",
            "l\n",
            "o\n",
            "w\n",
            "o\n",
            "r\n",
            "l\n",
            "d\n"
          ]
        }
      ]
    },
    {
      "cell_type": "code",
      "source": [
        "print(\"Hello\",end=\" \")  # end is for indicate that in end new line is not there but has a space.\n",
        "print(\"Python\")"
      ],
      "metadata": {
        "colab": {
          "base_uri": "https://localhost:8080/"
        },
        "id": "gxJeOn8ptxwo",
        "outputId": "b8ccf59c-8009-452c-f833-1dfdb32cac63"
      },
      "execution_count": 46,
      "outputs": [
        {
          "output_type": "stream",
          "name": "stdout",
          "text": [
            "Hello Python\n"
          ]
        }
      ]
    },
    {
      "cell_type": "code",
      "source": [
        "n=3\n",
        "if(n%2!=0):\n",
        "    print(\"Weird\")\n",
        "elif(n>=2 and n<6):\n",
        "    print(\"Not Weird\")\n",
        "elif(n>5 and n<21):\n",
        "    print(\"Weird\")\n",
        "else:\n",
        "    print(\"Not Weird\")"
      ],
      "metadata": {
        "colab": {
          "base_uri": "https://localhost:8080/"
        },
        "id": "LlsWgu1Oui7F",
        "outputId": "f3cdac3f-529f-4072-c36c-86e53d27a5a9"
      },
      "execution_count": 49,
      "outputs": [
        {
          "output_type": "stream",
          "name": "stdout",
          "text": [
            "Weird\n"
          ]
        }
      ]
    },
    {
      "cell_type": "code",
      "source": [
        "for i in range(6):\n",
        "  print(i*i)"
      ],
      "metadata": {
        "colab": {
          "base_uri": "https://localhost:8080/"
        },
        "id": "N4Prvaaavp97",
        "outputId": "024ef311-b5f1-4b77-f3e1-3a3bd5109dc7"
      },
      "execution_count": 52,
      "outputs": [
        {
          "output_type": "stream",
          "name": "stdout",
          "text": [
            "0\n",
            "1\n",
            "4\n",
            "9\n",
            "16\n",
            "25\n"
          ]
        }
      ]
    },
    {
      "cell_type": "code",
      "source": [
        "for i in range(6):\n",
        "  if i==2:\n",
        "    continue\n",
        "  print(i)"
      ],
      "metadata": {
        "colab": {
          "base_uri": "https://localhost:8080/"
        },
        "id": "uUhFNeRfv61a",
        "outputId": "c6bb36d0-5d81-49c3-e5bc-d8dfe70d5559"
      },
      "execution_count": 58,
      "outputs": [
        {
          "output_type": "stream",
          "name": "stdout",
          "text": [
            "0\n",
            "1\n",
            "3\n",
            "4\n",
            "5\n"
          ]
        }
      ]
    },
    {
      "cell_type": "code",
      "source": [
        "for i in range(6):\n",
        "  if i==4:\n",
        "    break\n",
        "  print(i)"
      ],
      "metadata": {
        "colab": {
          "base_uri": "https://localhost:8080/"
        },
        "id": "LxAeuFYgyZbp",
        "outputId": "124a5356-d5d8-4983-81e0-647cda50bcf9"
      },
      "execution_count": 59,
      "outputs": [
        {
          "output_type": "stream",
          "name": "stdout",
          "text": [
            "0\n",
            "1\n",
            "2\n",
            "3\n"
          ]
        }
      ]
    },
    {
      "cell_type": "markdown",
      "source": [
        "##List []\n",
        "* mutable\n",
        "* Scriptable\n",
        "* hetrogenous possible\n",
        "* ordered"
      ],
      "metadata": {
        "id": "bw-UU8Fu1Tv-"
      }
    },
    {
      "cell_type": "code",
      "source": [
        "#pehchan [] brackets\n",
        "\n",
        "lst=[1,2,3]\n",
        "print(lst)\n",
        "print(type(lst))\n",
        "lst.append(\"hello Sumeet\")\n",
        "print(lst)\n",
        "lst[0]=658\n",
        "print(lst)"
      ],
      "metadata": {
        "colab": {
          "base_uri": "https://localhost:8080/"
        },
        "id": "XTJLzuvwy8UB",
        "outputId": "4de8c8ee-bf88-4e77-c839-611ef0dc3257"
      },
      "execution_count": 63,
      "outputs": [
        {
          "output_type": "stream",
          "name": "stdout",
          "text": [
            "[1, 2, 3]\n",
            "<class 'list'>\n",
            "[1, 2, 3, 'hello Sumeet']\n",
            "[658, 2, 3, 'hello Sumeet']\n"
          ]
        }
      ]
    },
    {
      "cell_type": "code",
      "source": [
        "list2=[1,2,3]\n",
        "lst.append(list2)\n",
        "print(lst)"
      ],
      "metadata": {
        "colab": {
          "base_uri": "https://localhost:8080/"
        },
        "id": "_gRoYDUu1hB8",
        "outputId": "91c8096a-3f3a-4a7d-fd5b-2e57cbb1e862"
      },
      "execution_count": 65,
      "outputs": [
        {
          "output_type": "stream",
          "name": "stdout",
          "text": [
            "[658, 2, 3, 'hello Sumeet', [1, 2, 3], [1, 2, 3]]\n"
          ]
        }
      ]
    },
    {
      "cell_type": "code",
      "source": [
        "lst.remove([1,2,3])\n",
        "print(lst)"
      ],
      "metadata": {
        "colab": {
          "base_uri": "https://localhost:8080/"
        },
        "id": "2MrQlgP72Zmr",
        "outputId": "f28c726a-143a-4401-9b7c-eeff15f9a8c9"
      },
      "execution_count": 71,
      "outputs": [
        {
          "output_type": "stream",
          "name": "stdout",
          "text": [
            "[658, 3, 'hello Sumeet', [1, 2, 3]]\n"
          ]
        }
      ]
    },
    {
      "cell_type": "code",
      "source": [
        "print(lst)\n",
        "lst.pop()\n",
        "print(lst)"
      ],
      "metadata": {
        "colab": {
          "base_uri": "https://localhost:8080/"
        },
        "id": "bDbHc3av3K6D",
        "outputId": "4978b132-67c7-4230-e7f4-86caf7607793"
      },
      "execution_count": 76,
      "outputs": [
        {
          "output_type": "stream",
          "name": "stdout",
          "text": [
            "[658, 3, 'sumeet']\n",
            "[658, 3]\n"
          ]
        }
      ]
    },
    {
      "cell_type": "markdown",
      "source": [
        "## Tuple ()\n",
        "\n",
        "* Hetrogenous possible\n",
        "* Scriptable\n",
        "* non-mutable\n",
        "* ordered"
      ],
      "metadata": {
        "id": "0v7ES9Bj6iyG"
      }
    },
    {
      "cell_type": "code",
      "source": [
        "tup=(1,2,3)\n",
        "print(tup)\n",
        "print(type(tup))\n",
        "t=(1) #created tuple of 1 size but it considered as int\n",
        "print(type(t))\n",
        "t=(1,) # created tuple and behave like tuple\n",
        "print(type(t))"
      ],
      "metadata": {
        "colab": {
          "base_uri": "https://localhost:8080/"
        },
        "id": "QeaurBZQ6xBX",
        "outputId": "5c70b452-d844-49e2-c847-bb6f0a0bd15b"
      },
      "execution_count": 78,
      "outputs": [
        {
          "output_type": "stream",
          "name": "stdout",
          "text": [
            "(1, 2, 3)\n",
            "<class 'tuple'>\n",
            "<class 'int'>\n",
            "<class 'tuple'>\n"
          ]
        }
      ]
    },
    {
      "cell_type": "code",
      "source": [
        "tup.pop()\n",
        "print(tup)   # as it is non mutable"
      ],
      "metadata": {
        "colab": {
          "base_uri": "https://localhost:8080/",
          "height": 182
        },
        "id": "JrB2OkUk7BDH",
        "outputId": "a932d553-38e3-4b67-d679-bdae579b68f5"
      },
      "execution_count": 80,
      "outputs": [
        {
          "output_type": "error",
          "ename": "AttributeError",
          "evalue": "ignored",
          "traceback": [
            "\u001b[0;31m---------------------------------------------------------------------------\u001b[0m",
            "\u001b[0;31mAttributeError\u001b[0m                            Traceback (most recent call last)",
            "\u001b[0;32m<ipython-input-80-dffb46da3420>\u001b[0m in \u001b[0;36m<module>\u001b[0;34m()\u001b[0m\n\u001b[0;32m----> 1\u001b[0;31m \u001b[0mtup\u001b[0m\u001b[0;34m.\u001b[0m\u001b[0mpop\u001b[0m\u001b[0;34m(\u001b[0m\u001b[0;34m)\u001b[0m\u001b[0;34m\u001b[0m\u001b[0;34m\u001b[0m\u001b[0m\n\u001b[0m\u001b[1;32m      2\u001b[0m \u001b[0mprint\u001b[0m\u001b[0;34m(\u001b[0m\u001b[0mtup\u001b[0m\u001b[0;34m)\u001b[0m\u001b[0;34m\u001b[0m\u001b[0;34m\u001b[0m\u001b[0m\n",
            "\u001b[0;31mAttributeError\u001b[0m: 'tuple' object has no attribute 'pop'"
          ]
        }
      ]
    },
    {
      "cell_type": "code",
      "source": [
        "for i in tup:\n",
        "  print(i)"
      ],
      "metadata": {
        "colab": {
          "base_uri": "https://localhost:8080/"
        },
        "id": "ahFvovGG8BYY",
        "outputId": "9377610b-769b-4b45-d226-1d3ce450a454"
      },
      "execution_count": 81,
      "outputs": [
        {
          "output_type": "stream",
          "name": "stdout",
          "text": [
            "1\n",
            "2\n",
            "3\n"
          ]
        }
      ]
    },
    {
      "cell_type": "markdown",
      "source": [
        "## Set {}\n",
        "* not scriptable\n",
        "\n",
        "* hetrogenous possible\n",
        "\n",
        "* order mae print nahi hote so scriptable possible nahi hai but order bana sakte hai in py2.6 version se later.\n",
        "\n",
        "* Inmutable (means new object input kar sakte but existing ko change nahi kar sakte as \n",
        "sets have a func called hash which create bucket for objects and in one bucket has 3 or 4 elements\n",
        "and new object input karna chahe toh hash se new bucket aa jayegi toh not possible to put new obj upon existing one\n",
        "\n",
        "* mutable elements ki buckets nahi baan sakti hai\n",
        "\n",
        "* pop bhi random ho sakti as koi order nahi hai\n",
        "\n",
        "* no repeation allowed of elements."
      ],
      "metadata": {
        "id": "xSgFP1XI_BXF"
      }
    },
    {
      "cell_type": "code",
      "source": [
        "st={\"apple\",\"Mango\",1,3,7}\n",
        "print(st)\n",
        "print(type(st))\n",
        "for i in st:\n",
        "  print(i)\n",
        "st.clear()  # clear set full\n",
        "print(st)\n"
      ],
      "metadata": {
        "colab": {
          "base_uri": "https://localhost:8080/"
        },
        "id": "0r2Hds_-8Uge",
        "outputId": "8dea460e-452b-471b-df9b-d549e20aa352"
      },
      "execution_count": 88,
      "outputs": [
        {
          "output_type": "stream",
          "name": "stdout",
          "text": [
            "{1, 3, 'Mango', 7, 'apple'}\n",
            "<class 'set'>\n",
            "1\n",
            "3\n",
            "Mango\n",
            "7\n",
            "apple\n",
            "set()\n"
          ]
        }
      ]
    },
    {
      "cell_type": "code",
      "source": [
        "set1={1,2,3} # sets mae real maths vale functions laga sakte hai\n",
        "set2={56,2,1}\n",
        "print(set1.union(set2)) # union wala"
      ],
      "metadata": {
        "colab": {
          "base_uri": "https://localhost:8080/"
        },
        "id": "aniznayV_Qde",
        "outputId": "691a1274-9b46-4589-dc89-b0fde5a29dce"
      },
      "execution_count": 90,
      "outputs": [
        {
          "output_type": "stream",
          "name": "stdout",
          "text": [
            "{1, 2, 3, 56}\n"
          ]
        }
      ]
    },
    {
      "cell_type": "code",
      "source": [
        ""
      ],
      "metadata": {
        "id": "dMTGJNuaDcPH"
      },
      "execution_count": null,
      "outputs": []
    }
  ]
}

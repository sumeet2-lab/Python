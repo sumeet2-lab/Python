{
  "nbformat": 4,
  "nbformat_minor": 0,
  "metadata": {
    "colab": {
      "name": "005-Web Scraping.ipynb",
      "provenance": [],
      "collapsed_sections": [
        "assR2b_U422q",
        "UwAI0zmP5MYB"
      ],
      "include_colab_link": true
    },
    "kernelspec": {
      "name": "python3",
      "display_name": "Python 3"
    },
    "language_info": {
      "name": "python"
    }
  },
  "cells": [
    {
      "cell_type": "markdown",
      "metadata": {
        "id": "view-in-github",
        "colab_type": "text"
      },
      "source": [
        "<a href=\"https://colab.research.google.com/github/sumeet2-lab/Python/blob/main/005_Web_Scraping.ipynb\" target=\"_parent\"><img src=\"https://colab.research.google.com/assets/colab-badge.svg\" alt=\"Open In Colab\"/></a>"
      ]
    },
    {
      "cell_type": "markdown",
      "source": [
        "### BeautifulSoup"
      ],
      "metadata": {
        "id": "FU1l2b7C4XTW"
      }
    },
    {
      "cell_type": "code",
      "execution_count": null,
      "metadata": {
        "id": "RuA56ce0M2G6"
      },
      "outputs": [],
      "source": [
        "from bs4 import BeautifulSoup"
      ]
    },
    {
      "cell_type": "code",
      "source": [
        "import requests"
      ],
      "metadata": {
        "id": "WJQYTXtMSg5K"
      },
      "execution_count": null,
      "outputs": []
    },
    {
      "cell_type": "code",
      "source": [
        "flipkart = requests.get(\"https://www.flipkart.com/search?q=realme+mobile\")"
      ],
      "metadata": {
        "id": "K8O4vapFSqvv"
      },
      "execution_count": null,
      "outputs": []
    },
    {
      "cell_type": "code",
      "source": [
        "print(flipkart.content)"
      ],
      "metadata": {
        "id": "N8btC5azTVZL"
      },
      "execution_count": null,
      "outputs": []
    },
    {
      "cell_type": "code",
      "source": [
        "type(flipkart.content)"
      ],
      "metadata": {
        "id": "y_dNbihoTY1w"
      },
      "execution_count": null,
      "outputs": []
    },
    {
      "cell_type": "code",
      "source": [
        "flipkart.text"
      ],
      "metadata": {
        "id": "sW3kEvTgT4Pi"
      },
      "execution_count": null,
      "outputs": []
    },
    {
      "cell_type": "code",
      "source": [
        "type(flipkart.content)"
      ],
      "metadata": {
        "colab": {
          "base_uri": "https://localhost:8080/"
        },
        "id": "vMvffZA1T-Rl",
        "outputId": "4c94e68b-f520-448e-b90f-ca8bfa5201ba"
      },
      "execution_count": null,
      "outputs": [
        {
          "output_type": "execute_result",
          "data": {
            "text/plain": [
              "bytes"
            ]
          },
          "metadata": {},
          "execution_count": 47
        }
      ]
    },
    {
      "cell_type": "code",
      "source": [
        "soup = BeautifulSoup(flipkart.text, \"html.parser\")"
      ],
      "metadata": {
        "id": "6JQTYyeJUCdn"
      },
      "execution_count": null,
      "outputs": []
    },
    {
      "cell_type": "code",
      "source": [
        "print(soup.prettify)"
      ],
      "metadata": {
        "id": "QXLsAzJUU4Dc"
      },
      "execution_count": null,
      "outputs": []
    },
    {
      "cell_type": "code",
      "source": [
        "soup.title"
      ],
      "metadata": {
        "id": "jiPO_WUYU41-"
      },
      "execution_count": null,
      "outputs": []
    },
    {
      "cell_type": "code",
      "source": [
        "soup.title.text\n"
      ],
      "metadata": {
        "id": "WzVywth3Wwlk"
      },
      "execution_count": null,
      "outputs": []
    },
    {
      "cell_type": "code",
      "source": [
        "soup.p"
      ],
      "metadata": {
        "id": "kK0w45A_W8Bl"
      },
      "execution_count": null,
      "outputs": []
    },
    {
      "cell_type": "code",
      "source": [
        "soup.div.text"
      ],
      "metadata": {
        "id": "S_fApnV_W_Pe"
      },
      "execution_count": null,
      "outputs": []
    },
    {
      "cell_type": "code",
      "source": [
        "mobile = soup.find(\"div\", class_=\"_1AtVbE\")"
      ],
      "metadata": {
        "id": "Ap8B6it3XDps"
      },
      "execution_count": null,
      "outputs": []
    },
    {
      "cell_type": "code",
      "source": [
        "mobile"
      ],
      "metadata": {
        "id": "b0TOCz3cXcr3"
      },
      "execution_count": null,
      "outputs": []
    },
    {
      "cell_type": "code",
      "source": [
        "mobiles = soup.find_all(\"div\", attrs = {\"class\": \"_13oc-S\"})"
      ],
      "metadata": {
        "id": "3iCte_HPXgFP"
      },
      "execution_count": null,
      "outputs": []
    },
    {
      "cell_type": "code",
      "source": [
        "len(mobiles)"
      ],
      "metadata": {
        "id": "_P4eje3NXjSD"
      },
      "execution_count": null,
      "outputs": []
    },
    {
      "cell_type": "code",
      "source": [
        "mobile = mobiles[0]\n",
        "name = mobile.find(\"div\", attrs = {\"class\": \"_4rR01T\"})"
      ],
      "metadata": {
        "id": "fism0N1vXpN5"
      },
      "execution_count": null,
      "outputs": []
    },
    {
      "cell_type": "code",
      "source": [
        "name.text"
      ],
      "metadata": {
        "id": "wxF_pdOBZLQv"
      },
      "execution_count": null,
      "outputs": []
    },
    {
      "cell_type": "code",
      "source": [
        "price = mobile.find(\"div\", class_= \"_30jeq3 _1_WHN1\")"
      ],
      "metadata": {
        "id": "jM4BHFjCZLxO"
      },
      "execution_count": null,
      "outputs": []
    },
    {
      "cell_type": "code",
      "source": [
        "price.text"
      ],
      "metadata": {
        "id": "l2_qpyDRafER"
      },
      "execution_count": null,
      "outputs": []
    },
    {
      "cell_type": "code",
      "source": [
        "propeties = mobile.find_all(\"li\")"
      ],
      "metadata": {
        "id": "i2I4qSD4aiVA"
      },
      "execution_count": null,
      "outputs": []
    },
    {
      "cell_type": "code",
      "source": [
        "propeties"
      ],
      "metadata": {
        "colab": {
          "base_uri": "https://localhost:8080/"
        },
        "id": "ZvJbuJkcawE7",
        "outputId": "f940cb11-65c4-40ae-dd1c-27bf07c79101"
      },
      "execution_count": null,
      "outputs": [
        {
          "output_type": "execute_result",
          "data": {
            "text/plain": [
              "[<li class=\"rgWa7D\">4 GB RAM | 64 GB ROM | Expandable Upto 256 GB</li>,\n",
              " <li class=\"rgWa7D\">16.51 cm (6.5 inch) HD+ Display</li>,\n",
              " <li class=\"rgWa7D\">50MP + 2MP + 2MP | 8MP Front Camera</li>,\n",
              " <li class=\"rgWa7D\">6000 mAh Battery</li>,\n",
              " <li class=\"rgWa7D\">MediaTek Helio G85 Processor</li>,\n",
              " <li class=\"rgWa7D\">1 Year Warranty for Mobile and 6 Months for Accessories</li>]"
            ]
          },
          "metadata": {},
          "execution_count": 95
        }
      ]
    },
    {
      "cell_type": "code",
      "source": [
        "len(propeties)"
      ],
      "metadata": {
        "colab": {
          "base_uri": "https://localhost:8080/"
        },
        "id": "cHoR7cGTiBrl",
        "outputId": "00e3ff2f-6156-4ede-eeb4-cc149ce6eed9"
      },
      "execution_count": null,
      "outputs": [
        {
          "output_type": "execute_result",
          "data": {
            "text/plain": [
              "6"
            ]
          },
          "metadata": {},
          "execution_count": 96
        }
      ]
    },
    {
      "cell_type": "code",
      "source": [
        "ram = propeties[0]\n",
        "ram"
      ],
      "metadata": {
        "colab": {
          "base_uri": "https://localhost:8080/"
        },
        "id": "vEDWsKHaiBk8",
        "outputId": "690f96c8-1afb-418a-ad43-d340830154c8"
      },
      "execution_count": null,
      "outputs": [
        {
          "output_type": "execute_result",
          "data": {
            "text/plain": [
              "<li class=\"rgWa7D\">4 GB RAM | 64 GB ROM | Expandable Upto 256 GB</li>"
            ]
          },
          "metadata": {},
          "execution_count": 99
        }
      ]
    },
    {
      "cell_type": "code",
      "source": [
        "ram.text"
      ],
      "metadata": {
        "colab": {
          "base_uri": "https://localhost:8080/",
          "height": 35
        },
        "id": "66Rcb982iBef",
        "outputId": "9abefad5-1b1c-4918-9755-a517491652c1"
      },
      "execution_count": null,
      "outputs": [
        {
          "output_type": "execute_result",
          "data": {
            "application/vnd.google.colaboratory.intrinsic+json": {
              "type": "string"
            },
            "text/plain": [
              "'4 GB RAM | 64 GB ROM | Expandable Upto 256 GB'"
            ]
          },
          "metadata": {},
          "execution_count": 100
        }
      ]
    },
    {
      "cell_type": "code",
      "source": [
        "ram.text.split(\" \")"
      ],
      "metadata": {
        "colab": {
          "base_uri": "https://localhost:8080/"
        },
        "id": "UIBRWZKaiBaD",
        "outputId": "7e9a46c4-1ac0-4b02-8610-d7069bb6f405"
      },
      "execution_count": null,
      "outputs": [
        {
          "output_type": "execute_result",
          "data": {
            "text/plain": [
              "['4',\n",
              " 'GB',\n",
              " 'RAM',\n",
              " '|',\n",
              " '64',\n",
              " 'GB',\n",
              " 'ROM',\n",
              " '|',\n",
              " 'Expandable',\n",
              " 'Upto',\n",
              " '256',\n",
              " 'GB']"
            ]
          },
          "metadata": {},
          "execution_count": 102
        }
      ]
    },
    {
      "cell_type": "code",
      "source": [
        "ram.text.split(\" | \")"
      ],
      "metadata": {
        "colab": {
          "base_uri": "https://localhost:8080/"
        },
        "id": "fi5E8YYqiBUV",
        "outputId": "2132c94f-5bb5-4068-f04f-81cdfda6cffa"
      },
      "execution_count": null,
      "outputs": [
        {
          "output_type": "execute_result",
          "data": {
            "text/plain": [
              "['4 GB RAM', '64 GB ROM', 'Expandable Upto 256 GB']"
            ]
          },
          "metadata": {},
          "execution_count": 103
        }
      ]
    },
    {
      "cell_type": "code",
      "source": [
        "ram.text.split(\" | \")[0]"
      ],
      "metadata": {
        "colab": {
          "base_uri": "https://localhost:8080/",
          "height": 35
        },
        "id": "en0i3fMUiBQI",
        "outputId": "c09f8743-02a6-4c57-ed2c-02a04c43193c"
      },
      "execution_count": null,
      "outputs": [
        {
          "output_type": "execute_result",
          "data": {
            "application/vnd.google.colaboratory.intrinsic+json": {
              "type": "string"
            },
            "text/plain": [
              "'4 GB RAM'"
            ]
          },
          "metadata": {},
          "execution_count": 104
        }
      ]
    },
    {
      "cell_type": "code",
      "source": [
        ""
      ],
      "metadata": {
        "id": "W3-RZpuCiBMO"
      },
      "execution_count": null,
      "outputs": []
    },
    {
      "cell_type": "code",
      "source": [
        "names = []\n",
        "prices = []\n",
        "rams = []\n",
        "\n",
        "for mobile in mobiles:\n",
        "  name = mobile.find(\"div\", attrs = {\"class\": \"_4rR01T\"}).text\n",
        "  price = mobile.find(\"div\", class_= \"_30jeq3 _1_WHN1\").text\n",
        "  ram = mobile.find_all(\"li\")[0].text.split(\" | \")[0]\n",
        "\n",
        "  names.append(name)\n",
        "  prices.append(price)\n",
        "  rams.append(ram)\n"
      ],
      "metadata": {
        "id": "zH88uOM5g9p1"
      },
      "execution_count": null,
      "outputs": []
    },
    {
      "cell_type": "code",
      "source": [
        "names"
      ],
      "metadata": {
        "colab": {
          "base_uri": "https://localhost:8080/"
        },
        "id": "lIvzDCshhrlD",
        "outputId": "94cc0a1f-4596-4d5c-9661-8facb26627bb"
      },
      "execution_count": null,
      "outputs": [
        {
          "output_type": "execute_result",
          "data": {
            "text/plain": [
              "['realme Narzo 50A (Oxygen Blue, 64 GB)',\n",
              " 'realme Narzo 50A (Oxygen Green, 64 GB)',\n",
              " 'realme Narzo 50A (Oxygen Green, 128 GB)',\n",
              " 'realme Narzo 50A (Oxygen Blue, 128 GB)',\n",
              " 'realme 8i (Space Purple, 64 GB)',\n",
              " 'realme 8i (Space Black, 64 GB)',\n",
              " 'realme 8i (Space Black, 128 GB)',\n",
              " 'realme 8i (Space Purple, 128 GB)',\n",
              " 'realme C21Y (Cross Blue, 64 GB)',\n",
              " 'realme C21Y (Cross Blue, 32 GB)',\n",
              " 'realme C21Y (Cross Black, 32 GB)',\n",
              " 'realme C21Y (Cross Black, 64 GB)',\n",
              " 'realme C11 2021 (Cool Grey, 32 GB)',\n",
              " 'realme C11 2021 (Cool Blue, 64 GB)',\n",
              " 'realme C11 2021 (Cool Blue, 32 GB)',\n",
              " 'realme 9i (Prism Black, 128 GB)',\n",
              " 'realme 9i (Prism Blue, 128 GB)',\n",
              " 'realme 9i (Prism Blue, 64 GB)',\n",
              " 'realme 9i (Prism Black, 64 GB)',\n",
              " 'realme C11 2021 (Cool Grey, 64 GB)',\n",
              " 'realme 8 (Cyber Black, 128 GB)',\n",
              " 'realme 8 (Cyber Silver, 128 GB)',\n",
              " 'realme 8 (Cyber Silver, 128 GB)',\n",
              " 'realme 8 (Cyber Black, 128 GB)']"
            ]
          },
          "metadata": {},
          "execution_count": 109
        }
      ]
    },
    {
      "cell_type": "code",
      "source": [
        "dist = {\"Model\": names, \"Price\": price, \"RAM\": ram}"
      ],
      "metadata": {
        "id": "0uedUMl6hzFw"
      },
      "execution_count": null,
      "outputs": []
    },
    {
      "cell_type": "code",
      "source": [
        "import pandas as pd\n",
        "df = pd.DataFrame(dist)"
      ],
      "metadata": {
        "id": "kCiatfVth0cR"
      },
      "execution_count": null,
      "outputs": []
    },
    {
      "cell_type": "code",
      "source": [
        "df"
      ],
      "metadata": {
        "colab": {
          "base_uri": "https://localhost:8080/",
          "height": 802
        },
        "id": "ufRp8jWNh1TI",
        "outputId": "ccc0f417-11d8-4e16-aae8-ed81471643e0"
      },
      "execution_count": null,
      "outputs": [
        {
          "output_type": "execute_result",
          "data": {
            "text/html": [
              "\n",
              "  <div id=\"df-ce41e901-16fa-4223-acf3-2150d7b4c1d1\">\n",
              "    <div class=\"colab-df-container\">\n",
              "      <div>\n",
              "<style scoped>\n",
              "    .dataframe tbody tr th:only-of-type {\n",
              "        vertical-align: middle;\n",
              "    }\n",
              "\n",
              "    .dataframe tbody tr th {\n",
              "        vertical-align: top;\n",
              "    }\n",
              "\n",
              "    .dataframe thead th {\n",
              "        text-align: right;\n",
              "    }\n",
              "</style>\n",
              "<table border=\"1\" class=\"dataframe\">\n",
              "  <thead>\n",
              "    <tr style=\"text-align: right;\">\n",
              "      <th></th>\n",
              "      <th>Model</th>\n",
              "      <th>Price</th>\n",
              "      <th>RAM</th>\n",
              "    </tr>\n",
              "  </thead>\n",
              "  <tbody>\n",
              "    <tr>\n",
              "      <th>0</th>\n",
              "      <td>realme Narzo 50A (Oxygen Blue, 64 GB)</td>\n",
              "      <td>₹17,999</td>\n",
              "      <td>8 GB RAM</td>\n",
              "    </tr>\n",
              "    <tr>\n",
              "      <th>1</th>\n",
              "      <td>realme Narzo 50A (Oxygen Green, 64 GB)</td>\n",
              "      <td>₹17,999</td>\n",
              "      <td>8 GB RAM</td>\n",
              "    </tr>\n",
              "    <tr>\n",
              "      <th>2</th>\n",
              "      <td>realme Narzo 50A (Oxygen Green, 128 GB)</td>\n",
              "      <td>₹17,999</td>\n",
              "      <td>8 GB RAM</td>\n",
              "    </tr>\n",
              "    <tr>\n",
              "      <th>3</th>\n",
              "      <td>realme Narzo 50A (Oxygen Blue, 128 GB)</td>\n",
              "      <td>₹17,999</td>\n",
              "      <td>8 GB RAM</td>\n",
              "    </tr>\n",
              "    <tr>\n",
              "      <th>4</th>\n",
              "      <td>realme 8i (Space Purple, 64 GB)</td>\n",
              "      <td>₹17,999</td>\n",
              "      <td>8 GB RAM</td>\n",
              "    </tr>\n",
              "    <tr>\n",
              "      <th>5</th>\n",
              "      <td>realme 8i (Space Black, 64 GB)</td>\n",
              "      <td>₹17,999</td>\n",
              "      <td>8 GB RAM</td>\n",
              "    </tr>\n",
              "    <tr>\n",
              "      <th>6</th>\n",
              "      <td>realme 8i (Space Black, 128 GB)</td>\n",
              "      <td>₹17,999</td>\n",
              "      <td>8 GB RAM</td>\n",
              "    </tr>\n",
              "    <tr>\n",
              "      <th>7</th>\n",
              "      <td>realme 8i (Space Purple, 128 GB)</td>\n",
              "      <td>₹17,999</td>\n",
              "      <td>8 GB RAM</td>\n",
              "    </tr>\n",
              "    <tr>\n",
              "      <th>8</th>\n",
              "      <td>realme C21Y (Cross Blue, 64 GB)</td>\n",
              "      <td>₹17,999</td>\n",
              "      <td>8 GB RAM</td>\n",
              "    </tr>\n",
              "    <tr>\n",
              "      <th>9</th>\n",
              "      <td>realme C21Y (Cross Blue, 32 GB)</td>\n",
              "      <td>₹17,999</td>\n",
              "      <td>8 GB RAM</td>\n",
              "    </tr>\n",
              "    <tr>\n",
              "      <th>10</th>\n",
              "      <td>realme C21Y (Cross Black, 32 GB)</td>\n",
              "      <td>₹17,999</td>\n",
              "      <td>8 GB RAM</td>\n",
              "    </tr>\n",
              "    <tr>\n",
              "      <th>11</th>\n",
              "      <td>realme C21Y (Cross Black, 64 GB)</td>\n",
              "      <td>₹17,999</td>\n",
              "      <td>8 GB RAM</td>\n",
              "    </tr>\n",
              "    <tr>\n",
              "      <th>12</th>\n",
              "      <td>realme C11 2021 (Cool Grey, 32 GB)</td>\n",
              "      <td>₹17,999</td>\n",
              "      <td>8 GB RAM</td>\n",
              "    </tr>\n",
              "    <tr>\n",
              "      <th>13</th>\n",
              "      <td>realme C11 2021 (Cool Blue, 64 GB)</td>\n",
              "      <td>₹17,999</td>\n",
              "      <td>8 GB RAM</td>\n",
              "    </tr>\n",
              "    <tr>\n",
              "      <th>14</th>\n",
              "      <td>realme C11 2021 (Cool Blue, 32 GB)</td>\n",
              "      <td>₹17,999</td>\n",
              "      <td>8 GB RAM</td>\n",
              "    </tr>\n",
              "    <tr>\n",
              "      <th>15</th>\n",
              "      <td>realme 9i (Prism Black, 128 GB)</td>\n",
              "      <td>₹17,999</td>\n",
              "      <td>8 GB RAM</td>\n",
              "    </tr>\n",
              "    <tr>\n",
              "      <th>16</th>\n",
              "      <td>realme 9i (Prism Blue, 128 GB)</td>\n",
              "      <td>₹17,999</td>\n",
              "      <td>8 GB RAM</td>\n",
              "    </tr>\n",
              "    <tr>\n",
              "      <th>17</th>\n",
              "      <td>realme 9i (Prism Blue, 64 GB)</td>\n",
              "      <td>₹17,999</td>\n",
              "      <td>8 GB RAM</td>\n",
              "    </tr>\n",
              "    <tr>\n",
              "      <th>18</th>\n",
              "      <td>realme 9i (Prism Black, 64 GB)</td>\n",
              "      <td>₹17,999</td>\n",
              "      <td>8 GB RAM</td>\n",
              "    </tr>\n",
              "    <tr>\n",
              "      <th>19</th>\n",
              "      <td>realme C11 2021 (Cool Grey, 64 GB)</td>\n",
              "      <td>₹17,999</td>\n",
              "      <td>8 GB RAM</td>\n",
              "    </tr>\n",
              "    <tr>\n",
              "      <th>20</th>\n",
              "      <td>realme 8 (Cyber Black, 128 GB)</td>\n",
              "      <td>₹17,999</td>\n",
              "      <td>8 GB RAM</td>\n",
              "    </tr>\n",
              "    <tr>\n",
              "      <th>21</th>\n",
              "      <td>realme 8 (Cyber Silver, 128 GB)</td>\n",
              "      <td>₹17,999</td>\n",
              "      <td>8 GB RAM</td>\n",
              "    </tr>\n",
              "    <tr>\n",
              "      <th>22</th>\n",
              "      <td>realme 8 (Cyber Silver, 128 GB)</td>\n",
              "      <td>₹17,999</td>\n",
              "      <td>8 GB RAM</td>\n",
              "    </tr>\n",
              "    <tr>\n",
              "      <th>23</th>\n",
              "      <td>realme 8 (Cyber Black, 128 GB)</td>\n",
              "      <td>₹17,999</td>\n",
              "      <td>8 GB RAM</td>\n",
              "    </tr>\n",
              "  </tbody>\n",
              "</table>\n",
              "</div>\n",
              "      <button class=\"colab-df-convert\" onclick=\"convertToInteractive('df-ce41e901-16fa-4223-acf3-2150d7b4c1d1')\"\n",
              "              title=\"Convert this dataframe to an interactive table.\"\n",
              "              style=\"display:none;\">\n",
              "        \n",
              "  <svg xmlns=\"http://www.w3.org/2000/svg\" height=\"24px\"viewBox=\"0 0 24 24\"\n",
              "       width=\"24px\">\n",
              "    <path d=\"M0 0h24v24H0V0z\" fill=\"none\"/>\n",
              "    <path d=\"M18.56 5.44l.94 2.06.94-2.06 2.06-.94-2.06-.94-.94-2.06-.94 2.06-2.06.94zm-11 1L8.5 8.5l.94-2.06 2.06-.94-2.06-.94L8.5 2.5l-.94 2.06-2.06.94zm10 10l.94 2.06.94-2.06 2.06-.94-2.06-.94-.94-2.06-.94 2.06-2.06.94z\"/><path d=\"M17.41 7.96l-1.37-1.37c-.4-.4-.92-.59-1.43-.59-.52 0-1.04.2-1.43.59L10.3 9.45l-7.72 7.72c-.78.78-.78 2.05 0 2.83L4 21.41c.39.39.9.59 1.41.59.51 0 1.02-.2 1.41-.59l7.78-7.78 2.81-2.81c.8-.78.8-2.07 0-2.86zM5.41 20L4 18.59l7.72-7.72 1.47 1.35L5.41 20z\"/>\n",
              "  </svg>\n",
              "      </button>\n",
              "      \n",
              "  <style>\n",
              "    .colab-df-container {\n",
              "      display:flex;\n",
              "      flex-wrap:wrap;\n",
              "      gap: 12px;\n",
              "    }\n",
              "\n",
              "    .colab-df-convert {\n",
              "      background-color: #E8F0FE;\n",
              "      border: none;\n",
              "      border-radius: 50%;\n",
              "      cursor: pointer;\n",
              "      display: none;\n",
              "      fill: #1967D2;\n",
              "      height: 32px;\n",
              "      padding: 0 0 0 0;\n",
              "      width: 32px;\n",
              "    }\n",
              "\n",
              "    .colab-df-convert:hover {\n",
              "      background-color: #E2EBFA;\n",
              "      box-shadow: 0px 1px 2px rgba(60, 64, 67, 0.3), 0px 1px 3px 1px rgba(60, 64, 67, 0.15);\n",
              "      fill: #174EA6;\n",
              "    }\n",
              "\n",
              "    [theme=dark] .colab-df-convert {\n",
              "      background-color: #3B4455;\n",
              "      fill: #D2E3FC;\n",
              "    }\n",
              "\n",
              "    [theme=dark] .colab-df-convert:hover {\n",
              "      background-color: #434B5C;\n",
              "      box-shadow: 0px 1px 3px 1px rgba(0, 0, 0, 0.15);\n",
              "      filter: drop-shadow(0px 1px 2px rgba(0, 0, 0, 0.3));\n",
              "      fill: #FFFFFF;\n",
              "    }\n",
              "  </style>\n",
              "\n",
              "      <script>\n",
              "        const buttonEl =\n",
              "          document.querySelector('#df-ce41e901-16fa-4223-acf3-2150d7b4c1d1 button.colab-df-convert');\n",
              "        buttonEl.style.display =\n",
              "          google.colab.kernel.accessAllowed ? 'block' : 'none';\n",
              "\n",
              "        async function convertToInteractive(key) {\n",
              "          const element = document.querySelector('#df-ce41e901-16fa-4223-acf3-2150d7b4c1d1');\n",
              "          const dataTable =\n",
              "            await google.colab.kernel.invokeFunction('convertToInteractive',\n",
              "                                                     [key], {});\n",
              "          if (!dataTable) return;\n",
              "\n",
              "          const docLinkHtml = 'Like what you see? Visit the ' +\n",
              "            '<a target=\"_blank\" href=https://colab.research.google.com/notebooks/data_table.ipynb>data table notebook</a>'\n",
              "            + ' to learn more about interactive tables.';\n",
              "          element.innerHTML = '';\n",
              "          dataTable['output_type'] = 'display_data';\n",
              "          await google.colab.output.renderOutput(dataTable, element);\n",
              "          const docLink = document.createElement('div');\n",
              "          docLink.innerHTML = docLinkHtml;\n",
              "          element.appendChild(docLink);\n",
              "        }\n",
              "      </script>\n",
              "    </div>\n",
              "  </div>\n",
              "  "
            ],
            "text/plain": [
              "                                      Model    Price       RAM\n",
              "0     realme Narzo 50A (Oxygen Blue, 64 GB)  ₹17,999  8 GB RAM\n",
              "1    realme Narzo 50A (Oxygen Green, 64 GB)  ₹17,999  8 GB RAM\n",
              "2   realme Narzo 50A (Oxygen Green, 128 GB)  ₹17,999  8 GB RAM\n",
              "3    realme Narzo 50A (Oxygen Blue, 128 GB)  ₹17,999  8 GB RAM\n",
              "4           realme 8i (Space Purple, 64 GB)  ₹17,999  8 GB RAM\n",
              "5            realme 8i (Space Black, 64 GB)  ₹17,999  8 GB RAM\n",
              "6           realme 8i (Space Black, 128 GB)  ₹17,999  8 GB RAM\n",
              "7          realme 8i (Space Purple, 128 GB)  ₹17,999  8 GB RAM\n",
              "8           realme C21Y (Cross Blue, 64 GB)  ₹17,999  8 GB RAM\n",
              "9           realme C21Y (Cross Blue, 32 GB)  ₹17,999  8 GB RAM\n",
              "10         realme C21Y (Cross Black, 32 GB)  ₹17,999  8 GB RAM\n",
              "11         realme C21Y (Cross Black, 64 GB)  ₹17,999  8 GB RAM\n",
              "12       realme C11 2021 (Cool Grey, 32 GB)  ₹17,999  8 GB RAM\n",
              "13       realme C11 2021 (Cool Blue, 64 GB)  ₹17,999  8 GB RAM\n",
              "14       realme C11 2021 (Cool Blue, 32 GB)  ₹17,999  8 GB RAM\n",
              "15          realme 9i (Prism Black, 128 GB)  ₹17,999  8 GB RAM\n",
              "16           realme 9i (Prism Blue, 128 GB)  ₹17,999  8 GB RAM\n",
              "17            realme 9i (Prism Blue, 64 GB)  ₹17,999  8 GB RAM\n",
              "18           realme 9i (Prism Black, 64 GB)  ₹17,999  8 GB RAM\n",
              "19       realme C11 2021 (Cool Grey, 64 GB)  ₹17,999  8 GB RAM\n",
              "20           realme 8 (Cyber Black, 128 GB)  ₹17,999  8 GB RAM\n",
              "21          realme 8 (Cyber Silver, 128 GB)  ₹17,999  8 GB RAM\n",
              "22          realme 8 (Cyber Silver, 128 GB)  ₹17,999  8 GB RAM\n",
              "23           realme 8 (Cyber Black, 128 GB)  ₹17,999  8 GB RAM"
            ]
          },
          "metadata": {},
          "execution_count": 141
        }
      ]
    },
    {
      "cell_type": "markdown",
      "source": [
        "**Extract Url**"
      ],
      "metadata": {
        "id": "67DCsD7y4xG8"
      }
    },
    {
      "cell_type": "code",
      "source": [
        "mobile.a"
      ],
      "metadata": {
        "colab": {
          "base_uri": "https://localhost:8080/"
        },
        "id": "gjYdrtYClnIn",
        "outputId": "e1f9adae-59ab-4521-b619-25530ee9cb8b"
      },
      "execution_count": null,
      "outputs": [
        {
          "output_type": "execute_result",
          "data": {
            "text/plain": [
              "<a class=\"_1fQZEK\" href=\"/realme-8-cyber-black-128-gb/p/itm63bda3bf5b1db?pid=MOBGYV98456KWXBC&amp;lid=LSTMOBGYV98456KWXBCQGNEHZ&amp;marketplace=FLIPKART&amp;q=realme+mobile&amp;store=tyy%2F4io&amp;srno=s_1_24&amp;otracker=search&amp;fm=organic&amp;iid=dede6945-a3b2-4a3f-8744-c25ad28e2c82.MOBGYV98456KWXBC.SEARCH&amp;ppt=None&amp;ppn=None&amp;ssid=k5eefwvgz40000001643903802430&amp;qH=1fa38e164777fe68\" rel=\"noopener noreferrer\" target=\"_blank\"><div class=\"MIXNux\"><div class=\"_2QcLo-\"><div><div class=\"CXW8mj\" style=\"height:200px;width:200px\"><img alt=\"realme 8 (Cyber Black, 128 GB)\" class=\"_396cs4 _3exPp9\" src=\"https://rukminim1.flixcart.com/image/312/312/kmmcrrk0/mobile/4/g/a/8-rmx3085-realme-original-imagfgpfdkyc29zc.jpeg?q=70\"/></div></div></div><div class=\"_3wLduG\"><div class=\"_3PzNI-\"><span class=\"f3A4_V\"><label class=\"_2iDkf8\"><input class=\"_30VH1S\" readonly=\"\" type=\"checkbox\"/><div class=\"_24_Dny\"></div></label></span><label class=\"_6Up2sF\"><span>Add to Compare</span></label></div></div><div class=\"_2hVSre _3nq8ih\"><div class=\"_36FSn5\"><svg class=\"_1l0elc\" height=\"16\" viewbox=\"0 0 20 16\" width=\"16\" xmlns=\"http://www.w3.org/2000/svg\"><path class=\"eX72wL\" d=\"M8.695 16.682C4.06 12.382 1 9.536 1 6.065 1 3.219 3.178 1 5.95 1c1.566 0 3.069.746 4.05 1.915C10.981 1.745 12.484 1 14.05 1 16.822 1 19 3.22 19 6.065c0 3.471-3.06 6.316-7.695 10.617L10 17.897l-1.305-1.215z\" fill=\"#2874F0\" fill-rule=\"evenodd\" opacity=\".9\" stroke=\"#FFF\"></path></svg></div></div></div><div class=\"_3pLy-c row\"><div class=\"col col-7-12\"><div class=\"_4rR01T\">realme 8 (Cyber Black, 128 GB)</div><div class=\"gUuXy-\"><span class=\"_1lRcqv\" id=\"productRating_LSTMOBGYV98456KWXBCQGNEHZ_MOBGYV98456KWXBC_\"><div class=\"_3LWZlK\">4.4<img class=\"_1wB99o\" src=\"data:image/svg+xml;base64,PHN2ZyB4bWxucz0iaHR0cDovL3d3dy53My5vcmcvMjAwMC9zdmciIHdpZHRoPSIxMyIgaGVpZ2h0PSIxMiI+PHBhdGggZmlsbD0iI0ZGRiIgZD0iTTYuNSA5LjQzOWwtMy42NzQgMi4yMy45NC00LjI2LTMuMjEtMi44ODMgNC4yNTQtLjQwNEw2LjUuMTEybDEuNjkgNC4wMSA0LjI1NC40MDQtMy4yMSAyLjg4Mi45NCA0LjI2eiIvPjwvc3ZnPg==\"/></div></span><span class=\"_2_R_DZ\"><span><span>80,423 Ratings </span><span class=\"_13vcmD\">&amp;</span><span> 7,104 Reviews</span></span></span></div><div class=\"fMghEO\"><ul class=\"_1xgFaf\"><li class=\"rgWa7D\">8 GB RAM | 128 GB ROM | Expandable Upto 256 GB</li><li class=\"rgWa7D\">16.26 cm (6.4 inch) Full HD+ Display</li><li class=\"rgWa7D\">64MP + 8MP + 2MP + 2MP | 16MP Front Camera</li><li class=\"rgWa7D\">5000 mAh Battery</li><li class=\"rgWa7D\">MediaTek Helio G95 Processor</li><li class=\"rgWa7D\">Super AMOLED Display</li><li class=\"rgWa7D\">1 Year Warranty for Mobile and 6 Months for Accessories</li></ul></div></div><div class=\"col col-5-12 nlI3QM\"><div class=\"_3tbKJL\"><div class=\"_25b18c\"><div class=\"_30jeq3 _1_WHN1\">₹17,999</div><div class=\"_3I9_wc _27UcVY\">₹<!-- -->18,999</div><div class=\"_3Ay6Sb\"><span>5% off</span></div></div><div class=\"_3tcB5a p8ucoS\"><div><div class=\"_2Tpdn3\" style=\"color:#000000;font-size:12px;font-style:normal;font-weight:400\">Free delivery</div></div></div></div><div class=\"_13J9qT\"><img height=\"21\" src=\"//static-assets-web.flixcart.com/www/linchpin/fk-cp-zion/img/fa_62673a.png\"/></div><div class=\"_2ZdXDB\"><div class=\"_3xFhiH\"><div class=\"_2Tpdn3 _18hQoS\" style=\"color:#000000;font-size:14px;font-style:normal;font-weight:400\">Upto </div><div class=\"_2Tpdn3 _18hQoS\" style=\"color:#000000;font-size:14px;font-style:normal;font-weight:700\">₹15,850</div><div class=\"_2Tpdn3 _18hQoS\" style=\"color:#000000;font-size:14px;font-style:normal;font-weight:400\"> Off on Exchange</div></div></div></div></div></a>"
            ]
          },
          "metadata": {},
          "execution_count": 142
        }
      ]
    },
    {
      "cell_type": "code",
      "source": [
        "mobile.a.text"
      ],
      "metadata": {
        "colab": {
          "base_uri": "https://localhost:8080/",
          "height": 70
        },
        "id": "6A9vTV-plpmC",
        "outputId": "b610cd6b-55cc-42e4-ddcc-d2fa47e9e134"
      },
      "execution_count": null,
      "outputs": [
        {
          "output_type": "execute_result",
          "data": {
            "application/vnd.google.colaboratory.intrinsic+json": {
              "type": "string"
            },
            "text/plain": [
              "'Add to Comparerealme 8 (Cyber Black, 128 GB)4.480,423 Ratings\\xa0&\\xa07,104 Reviews8 GB RAM | 128 GB ROM | Expandable Upto 256 GB16.26 cm (6.4 inch) Full HD+ Display64MP + 8MP + 2MP + 2MP | 16MP Front Camera5000 mAh BatteryMediaTek Helio G95 ProcessorSuper AMOLED Display1 Year Warranty for Mobile and 6 Months for Accessories₹17,999₹18,9995% offFree deliveryUpto ₹15,850 Off on Exchange'"
            ]
          },
          "metadata": {},
          "execution_count": 143
        }
      ]
    },
    {
      "cell_type": "code",
      "source": [
        "url = mobile.a[\"href\"]"
      ],
      "metadata": {
        "id": "-rKsaHVujd70"
      },
      "execution_count": null,
      "outputs": []
    },
    {
      "cell_type": "code",
      "source": [
        "url"
      ],
      "metadata": {
        "colab": {
          "base_uri": "https://localhost:8080/",
          "height": 53
        },
        "id": "_eUI1qVbkFeP",
        "outputId": "5e1253ff-1a2b-44a5-fc38-7a57a89150f1"
      },
      "execution_count": null,
      "outputs": [
        {
          "output_type": "execute_result",
          "data": {
            "application/vnd.google.colaboratory.intrinsic+json": {
              "type": "string"
            },
            "text/plain": [
              "'/realme-8-cyber-black-128-gb/p/itm63bda3bf5b1db?pid=MOBGYV98456KWXBC&lid=LSTMOBGYV98456KWXBCQGNEHZ&marketplace=FLIPKART&q=realme+mobile&store=tyy%2F4io&srno=s_1_24&otracker=search&fm=organic&iid=dede6945-a3b2-4a3f-8744-c25ad28e2c82.MOBGYV98456KWXBC.SEARCH&ppt=None&ppn=None&ssid=k5eefwvgz40000001643903802430&qH=1fa38e164777fe68'"
            ]
          },
          "metadata": {},
          "execution_count": 137
        }
      ]
    },
    {
      "cell_type": "code",
      "source": [
        "url = url.split(\"?\")[0]"
      ],
      "metadata": {
        "id": "forbNN3pkGMF"
      },
      "execution_count": null,
      "outputs": []
    },
    {
      "cell_type": "code",
      "source": [
        "url = \"https://www.flipkart.com\" + url"
      ],
      "metadata": {
        "id": "wsO5T0Kukg02"
      },
      "execution_count": null,
      "outputs": []
    },
    {
      "cell_type": "code",
      "source": [
        "url"
      ],
      "metadata": {
        "colab": {
          "base_uri": "https://localhost:8080/",
          "height": 35
        },
        "id": "KxO7o5SekhbX",
        "outputId": "b0c8a702-7973-43df-b2bc-3c1ac4517657"
      },
      "execution_count": null,
      "outputs": [
        {
          "output_type": "execute_result",
          "data": {
            "application/vnd.google.colaboratory.intrinsic+json": {
              "type": "string"
            },
            "text/plain": [
              "'https://www.flipkart.com/realme-8-cyber-black-128-gb/p/itm63bda3bf5b1db'"
            ]
          },
          "metadata": {},
          "execution_count": 140
        }
      ]
    },
    {
      "cell_type": "markdown",
      "source": [
        "### **Extract GSOC Organizations Data**"
      ],
      "metadata": {
        "id": "assR2b_U422q"
      }
    },
    {
      "cell_type": "code",
      "source": [
        "page = requests.get(\"https://summerofcode.withgoogle.com/archive/2021/organizations\")"
      ],
      "metadata": {
        "id": "kX58w6JMkw4C"
      },
      "execution_count": null,
      "outputs": []
    },
    {
      "cell_type": "code",
      "source": [
        "page"
      ],
      "metadata": {
        "colab": {
          "base_uri": "https://localhost:8080/"
        },
        "id": "skjJkl5XpLJx",
        "outputId": "55da4fdc-bb1a-4541-bc55-d2682457c7df"
      },
      "execution_count": null,
      "outputs": [
        {
          "output_type": "execute_result",
          "data": {
            "text/plain": [
              "<Response [200]>"
            ]
          },
          "metadata": {},
          "execution_count": 155
        }
      ]
    },
    {
      "cell_type": "code",
      "source": [
        "soup = BeautifulSoup(page.text, \"html.parser\")"
      ],
      "metadata": {
        "id": "uPt4MsDjpMJ2"
      },
      "execution_count": null,
      "outputs": []
    },
    {
      "cell_type": "code",
      "source": [
        "soup.title"
      ],
      "metadata": {
        "colab": {
          "base_uri": "https://localhost:8080/"
        },
        "id": "-jMvfPK_pWqo",
        "outputId": "b87c6e44-e91d-4d99-f895-6b66484f3d0f"
      },
      "execution_count": null,
      "outputs": [
        {
          "output_type": "execute_result",
          "data": {
            "text/plain": [
              "<title>Google Summer of Code</title>"
            ]
          },
          "metadata": {},
          "execution_count": 157
        }
      ]
    },
    {
      "cell_type": "markdown",
      "source": [
        "**Automation**"
      ],
      "metadata": {
        "id": "GLD2oKBU5DiO"
      }
    },
    {
      "cell_type": "code",
      "source": [
        "!pip install selenium"
      ],
      "metadata": {
        "id": "NJZjvlKBpa8J"
      },
      "execution_count": null,
      "outputs": []
    },
    {
      "cell_type": "code",
      "source": [
        "!apt install chromium-chromedriver"
      ],
      "metadata": {
        "id": "N1p1tmj6qcng"
      },
      "execution_count": null,
      "outputs": []
    },
    {
      "cell_type": "code",
      "source": [
        "!cp /usr/lib/chromium-browser/chromedriver /usr/bin"
      ],
      "metadata": {
        "colab": {
          "base_uri": "https://localhost:8080/"
        },
        "id": "UDJGYsE7r490",
        "outputId": "d7e037b6-22c6-4301-9e46-878dc2c36e07"
      },
      "execution_count": null,
      "outputs": [
        {
          "output_type": "stream",
          "name": "stdout",
          "text": [
            "cp: '/usr/lib/chromium-browser/chromedriver' and '/usr/bin/chromedriver' are the same file\n"
          ]
        }
      ]
    },
    {
      "cell_type": "code",
      "source": [
        "from selenium import webdriver\n",
        "import sys\n",
        "\n",
        "sys.path.insert(0,'/usr/lib/chromium-browser/chromedriver')\n",
        "\n",
        "chrome_options = webdriver.ChromeOptions()\n",
        "\n",
        "chrome_options.add_argument('--headless')\n",
        "chrome_options.add_argument('--no-sandbox')\n",
        "\n",
        "driver = webdriver.Chrome('chromedriver',chrome_options=chrome_options)"
      ],
      "metadata": {
        "colab": {
          "base_uri": "https://localhost:8080/"
        },
        "id": "-2eF4jSgqrf0",
        "outputId": "3ee43ef3-110a-4860-e3d9-751ec99a646b"
      },
      "execution_count": null,
      "outputs": [
        {
          "output_type": "stream",
          "name": "stderr",
          "text": [
            "/usr/local/lib/python3.7/dist-packages/ipykernel_launcher.py:11: DeprecationWarning: use options instead of chrome_options\n",
            "  # This is added back by InteractiveShellApp.init_path()\n"
          ]
        }
      ]
    },
    {
      "cell_type": "code",
      "source": [
        "import time\n",
        "driver.get(\"https://summerofcode.withgoogle.com/archive/2021/organizations\")\n",
        "time.sleep(2)"
      ],
      "metadata": {
        "id": "jcT5RyNIq4ci"
      },
      "execution_count": null,
      "outputs": []
    },
    {
      "cell_type": "code",
      "source": [
        "page = driver.page_source\n"
      ],
      "metadata": {
        "id": "q3Mp6_aWtFi3"
      },
      "execution_count": null,
      "outputs": []
    },
    {
      "cell_type": "code",
      "source": [
        "page"
      ],
      "metadata": {
        "id": "aX5GDfPFtZAi"
      },
      "execution_count": null,
      "outputs": []
    },
    {
      "cell_type": "code",
      "source": [
        "soup = BeautifulSoup(page, \"html.parser\")"
      ],
      "metadata": {
        "id": "ZSkxeJGbtZnM"
      },
      "execution_count": null,
      "outputs": []
    },
    {
      "cell_type": "code",
      "source": [
        "soup.title"
      ],
      "metadata": {
        "colab": {
          "base_uri": "https://localhost:8080/"
        },
        "id": "wl6r2pJotdcz",
        "outputId": "55e0cc73-83ca-48e0-f1f4-afb5cc75ac15"
      },
      "execution_count": null,
      "outputs": [
        {
          "output_type": "execute_result",
          "data": {
            "text/plain": [
              "<title>Archive Organizations | Google Summer of Code</title>"
            ]
          },
          "metadata": {},
          "execution_count": 175
        }
      ]
    },
    {
      "cell_type": "code",
      "source": [
        "orgs = soup.find_all(\"div\", class_=\"card\")"
      ],
      "metadata": {
        "id": "q_8MSI_xtfRr"
      },
      "execution_count": null,
      "outputs": []
    },
    {
      "cell_type": "code",
      "source": [
        "len(orgs)"
      ],
      "metadata": {
        "colab": {
          "base_uri": "https://localhost:8080/"
        },
        "id": "o4HmadyRt4eE",
        "outputId": "e485b48c-ead7-47bc-e1a5-62874c618f45"
      },
      "execution_count": null,
      "outputs": [
        {
          "output_type": "execute_result",
          "data": {
            "text/plain": [
              "50"
            ]
          },
          "metadata": {},
          "execution_count": 177
        }
      ]
    },
    {
      "cell_type": "code",
      "source": [
        "org = orgs[0]\n"
      ],
      "metadata": {
        "id": "6ByImA29t6F7"
      },
      "execution_count": null,
      "outputs": []
    },
    {
      "cell_type": "code",
      "source": [
        "org_name = org.find(\"div\", class_='name')"
      ],
      "metadata": {
        "id": "Lbjfba3fuHEu"
      },
      "execution_count": null,
      "outputs": []
    },
    {
      "cell_type": "code",
      "source": [
        "org_name.text"
      ],
      "metadata": {
        "colab": {
          "base_uri": "https://localhost:8080/",
          "height": 35
        },
        "id": "bvHcG0oEuRJx",
        "outputId": "509d2c76-ad48-4721-edc9-d5314fa732f9"
      },
      "execution_count": null,
      "outputs": [
        {
          "output_type": "execute_result",
          "data": {
            "application/vnd.google.colaboratory.intrinsic+json": {
              "type": "string"
            },
            "text/plain": [
              "' 52°North GmbH '"
            ]
          },
          "metadata": {},
          "execution_count": 181
        }
      ]
    },
    {
      "cell_type": "code",
      "source": [
        "url = \"https://summerofcode.withgoogle.com/\" + org.a[\"href\"]"
      ],
      "metadata": {
        "id": "OuFA8rlQuR_4"
      },
      "execution_count": null,
      "outputs": []
    },
    {
      "cell_type": "code",
      "source": [
        "url"
      ],
      "metadata": {
        "colab": {
          "base_uri": "https://localhost:8080/",
          "height": 35
        },
        "id": "aUTgsvJMuf13",
        "outputId": "dd8fdf6e-abb7-40bf-be0f-3bbacfa7197a"
      },
      "execution_count": null,
      "outputs": [
        {
          "output_type": "execute_result",
          "data": {
            "application/vnd.google.colaboratory.intrinsic+json": {
              "type": "string"
            },
            "text/plain": [
              "'https://summerofcode.withgoogle.com//archive/2021/organizations/5129526253715456'"
            ]
          },
          "metadata": {},
          "execution_count": 185
        }
      ]
    },
    {
      "cell_type": "code",
      "source": [
        "driver.get(url)\n",
        "time.sleep(2)\n",
        "page = driver.page_source\n",
        "org_soup = BeautifulSoup(page, \"html.parser\")"
      ],
      "metadata": {
        "id": "EmAuKu3ru7d4"
      },
      "execution_count": null,
      "outputs": []
    },
    {
      "cell_type": "code",
      "source": [
        "tech = org_soup.find(\"div\", class_=\"tech__content\")"
      ],
      "metadata": {
        "id": "mlRoBd2EvTAo"
      },
      "execution_count": null,
      "outputs": []
    },
    {
      "cell_type": "code",
      "source": [
        "tech.text.split(\", \")"
      ],
      "metadata": {
        "colab": {
          "base_uri": "https://localhost:8080/"
        },
        "id": "_aV83j_7vY9K",
        "outputId": "3da49016-87fc-41de-d5e6-14db1a4fff90"
      },
      "execution_count": null,
      "outputs": [
        {
          "output_type": "execute_result",
          "data": {
            "text/plain": [
              "['python', 'javascript', 'java', 'web services', 'ogc standards']"
            ]
          },
          "metadata": {},
          "execution_count": 196
        }
      ]
    },
    {
      "cell_type": "markdown",
      "source": [
        "**Code to click on next button - LOCAL SYSTEM**"
      ],
      "metadata": {
        "id": "PcGR-po85Vp3"
      }
    },
    {
      "cell_type": "code",
      "source": [
        "from selenium import webdriver\n",
        "browser = webdriver.Chrome('chromedriver')"
      ],
      "metadata": {
        "id": "DriuebiS5mSj"
      },
      "execution_count": null,
      "outputs": []
    },
    {
      "cell_type": "code",
      "source": [
        "url = \"https://summerofcode.withgoogle.com/archive/2021/organizations\"\n",
        "browser.get(url)"
      ],
      "metadata": {
        "id": "NPddAlky5oH2"
      },
      "execution_count": null,
      "outputs": []
    },
    {
      "cell_type": "code",
      "source": [
        "from selenium.webdriver.common.by import By\n",
        "\n",
        "button = browser.find_element(By.CSS_SELECTOR , 'body > app-root > app-layout > mat-sidenav-container > mat-sidenav-content > div > div > main > app-organizations > app-orgs-grid > section.list-wrapper.section.theme--gray > div > div:nth-child(2) > mat-paginator > div > div > div.mat-paginator-range-actions > button.mat-focus-indicator.mat-tooltip-trigger.mat-paginator-navigation-next.mat-icon-button')"
      ],
      "metadata": {
        "id": "AAJavXyI5nsF"
      },
      "execution_count": null,
      "outputs": []
    },
    {
      "cell_type": "code",
      "source": [
        "button.click()"
      ],
      "metadata": {
        "id": "fLTG8kdv5xk_"
      },
      "execution_count": null,
      "outputs": []
    },
    {
      "cell_type": "markdown",
      "source": [
        "### **Read Table using Pandas**"
      ],
      "metadata": {
        "id": "UwAI0zmP5MYB"
      }
    },
    {
      "cell_type": "code",
      "source": [
        "table = pd.read_html(\"https://sports.yahoo.com/nba/stats/team/?selectedTable=0&guce_referrer=aHR0cHM6Ly93d3cuZ29vZ2xlLmNvbS8&guce_referrer_sig=AQAAABAYuBC__LxpDBmFei0t4um5RdZnh4NDt_g0EmOKj9BF74C9I-Ksyu3px5TFE0-H4J6E8SGurm3p787klJD4-aaA5Sm2WPpniIFMUCAmLoiFbwtJacrlnF0EQYQp7OBg4_GaaOyJZp_jPmWA1wK0gw5Jm61xGo9wlq0pLkYXQ1WL&guccounter=2\")"
      ],
      "metadata": {
        "id": "8j7tZ8RivZiK"
      },
      "execution_count": null,
      "outputs": []
    },
    {
      "cell_type": "code",
      "source": [
        "len(table)"
      ],
      "metadata": {
        "colab": {
          "base_uri": "https://localhost:8080/"
        },
        "id": "fpfDc82z1hzM",
        "outputId": "2df4a857-0cd6-48b0-e6f0-5a03e8aadb17"
      },
      "execution_count": null,
      "outputs": [
        {
          "output_type": "execute_result",
          "data": {
            "text/plain": [
              "1"
            ]
          },
          "metadata": {},
          "execution_count": 200
        }
      ]
    },
    {
      "cell_type": "code",
      "source": [
        "table"
      ],
      "metadata": {
        "colab": {
          "base_uri": "https://localhost:8080/"
        },
        "id": "7D5X4RmV2M2a",
        "outputId": "63ce0fab-a577-44af-a6a4-4bb7ef94a2b4"
      },
      "execution_count": null,
      "outputs": [
        {
          "output_type": "execute_result",
          "data": {
            "text/plain": [
              "[             Team   FGM   FGA   FG%   3PM  ...    TO   Stl  Blk    PF    Pts\n",
              " 0       Charlotte  42.4  92.0  46.1  13.9  ...  12.6   8.8  5.0  19.5  114.3\n",
              " 1            Utah  40.5  85.9  47.2  14.5  ...  13.3   7.1  4.8  18.9  113.4\n",
              " 2         Phoenix  42.7  89.2  47.8  11.6  ...  12.8   8.6  4.2  19.3  113.0\n",
              " 3         Memphis  42.5  93.2  45.6  11.1  ...  12.7  10.2  6.4  19.1  112.2\n",
              " 4       Minnesota  40.7  91.4  44.5  14.3  ...  14.1   8.8  5.8  21.8  112.0\n",
              " 5       Milwaukee  40.4  88.8  45.5  14.1  ...  13.2   7.7  4.2  17.9  111.8\n",
              " 6        Brooklyn  41.6  88.2  47.2  11.1  ...  13.3   7.0  5.5  20.0  111.6\n",
              " 7         Atlanta  40.7  87.3  46.6  12.5  ...  11.7   6.7  4.4  18.3  111.5\n",
              " 8     San Antonio  43.4  93.4  46.5  11.2  ...  12.3   7.5  5.2  17.7  111.4\n",
              " 9         Chicago  41.5  87.0  47.7  11.4  ...  12.4   7.4  4.6  18.8  111.3\n",
              " 10      LA Lakers  41.3  89.1  46.3  12.1  ...  14.1   8.1  5.6  20.3  110.8\n",
              " 11   Golden State  40.3  86.5  46.6  14.5  ...  15.0   9.4  5.0  20.3  110.7\n",
              " 12     Sacramento  40.4  89.5  45.2  11.7  ...  13.3   7.1  4.7  19.4  109.3\n",
              " 13         Denver  40.8  86.5  47.2  12.8  ...  13.3   7.2  3.8  19.3  109.1\n",
              " 14        Indiana  40.6  88.8  45.7  11.8  ...  13.3   6.9  5.7  20.4  109.1\n",
              " 15          Miami  39.3  85.6  45.9  13.6  ...  14.2   7.3  3.3  20.5  108.7\n",
              " 16        Houston  38.7  85.7  45.1  13.2  ...  16.1   7.3  4.7  20.0  108.4\n",
              " 17         Boston  39.3  87.5  45.0  12.4  ...  13.6   7.3  5.8  18.8  108.1\n",
              " 18       Portland  38.9  86.6  44.9  13.7  ...  13.1   7.6  4.7  20.1  108.1\n",
              " 19   Philadelphia  39.6  85.4  46.4  11.1  ...  11.8   7.7  5.7  19.1  107.8\n",
              " 20        Toronto  39.8  90.9  43.8  12.3  ...  12.0   9.2  4.9  19.9  107.5\n",
              " 21     Washington  40.0  86.1  46.5  10.1  ...  12.8   6.0  5.1  18.7  107.4\n",
              " 22      Cleveland  39.7  85.1  46.7  11.8  ...  13.8   7.2  4.4  16.9  106.8\n",
              " 23         Dallas  39.2  86.4  45.3  12.3  ...  11.8   7.1  4.2  19.7  106.3\n",
              " 24    LA Clippers  39.2  87.2  44.9  12.4  ...  13.6   7.5  4.5  18.6  106.1\n",
              " 25    New Orleans  38.4  87.8  43.8  10.8  ...  13.4   7.5  4.1  19.4  105.4\n",
              " 26       New York  37.4  85.5  43.7  13.1  ...  12.8   6.9  5.0  19.6  104.2\n",
              " 27        Orlando  37.9  87.5  43.3  11.8  ...  14.0   6.8  4.8  20.0  103.1\n",
              " 28        Detroit  37.0  87.7  42.2  11.1  ...  13.9   8.0  4.8  21.4  102.3\n",
              " 29  Oklahoma City  37.2  89.2  41.7  11.8  ...  12.8   7.5  4.6  18.3  101.1\n",
              " \n",
              " [30 rows x 19 columns]]"
            ]
          },
          "metadata": {},
          "execution_count": 201
        }
      ]
    },
    {
      "cell_type": "code",
      "source": [
        ""
      ],
      "metadata": {
        "id": "licPtHvM2OSE"
      },
      "execution_count": null,
      "outputs": []
    },
    {
      "cell_type": "markdown",
      "source": [
        "## **LOGIN to Pepcoding**"
      ],
      "metadata": {
        "id": "ysLFjUhP53t6"
      }
    },
    {
      "cell_type": "code",
      "source": [
        "from selenium import webdriver\n",
        "from selenium.webdriver.common.by import By\n",
        "import time"
      ],
      "metadata": {
        "id": "oe-8SQT36V9u"
      },
      "execution_count": null,
      "outputs": []
    },
    {
      "cell_type": "code",
      "source": [
        "url = \"https://www.pepcoding.com/login\"\n",
        "id = \"purnachandramansingh135@gmai.com\"\n",
        "passwd = \"purna@123\""
      ],
      "metadata": {
        "id": "RICBE3pm6Y80"
      },
      "execution_count": null,
      "outputs": []
    },
    {
      "cell_type": "code",
      "source": [
        "option = webdriver.ChromeOptions()\n",
        "option.add_argument(\"--start-maximized\")\n",
        "browser = webdriver.Chrome(executable_path=\"chromedriver.exe\", options=option)"
      ],
      "metadata": {
        "id": "3iU50EfL6bFm"
      },
      "execution_count": null,
      "outputs": []
    },
    {
      "cell_type": "code",
      "source": [
        "browser.get(url)\n",
        "time.sleep(1)"
      ],
      "metadata": {
        "id": "b1rjMOWW6dVb"
      },
      "execution_count": null,
      "outputs": []
    },
    {
      "cell_type": "code",
      "source": [
        "username = browser.find_element(By.NAME, 'email')\n",
        "username.send_keys(id)"
      ],
      "metadata": {
        "id": "R8xrmMg66vCp"
      },
      "execution_count": null,
      "outputs": []
    },
    {
      "cell_type": "code",
      "source": [
        "username = browser.find_element(By.NAME, 'password')\n",
        "username.send_keys(passwd)"
      ],
      "metadata": {
        "id": "9RM7MSIK6xDw"
      },
      "execution_count": null,
      "outputs": []
    },
    {
      "cell_type": "code",
      "source": [
        "login = browser.find_element(By.XPATH, '//button')\n",
        "login.click()"
      ],
      "metadata": {
        "id": "R4dPPMfA6zIW"
      },
      "execution_count": null,
      "outputs": []
    },
    {
      "cell_type": "code",
      "source": [
        "browser.quit()"
      ],
      "metadata": {
        "id": "OT-s60ls61C5"
      },
      "execution_count": null,
      "outputs": []
    }
  ]
}